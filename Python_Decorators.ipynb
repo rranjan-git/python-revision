{
  "cells": [
    {
      "cell_type": "markdown",
      "metadata": {
        "id": "b1sX6QxTGJm7"
      },
      "source": [
        "## Introduction to Python Functions"
      ]
    },
    {
      "cell_type": "code",
      "execution_count": 1,
      "metadata": {
        "id": "0_IJESRRGD8G"
      },
      "outputs": [],
      "source": [
        "def greet():\n",
        "    return \"Hello, there!\""
      ]
    },
    {
      "cell_type": "code",
      "execution_count": 2,
      "metadata": {
        "colab": {
          "base_uri": "https://localhost:8080/",
          "height": 36
        },
        "id": "LiHOm4qoJcLk",
        "outputId": "e4feb329-7313-4785-fbac-05032ffa435a"
      },
      "outputs": [
        {
          "data": {
            "text/plain": [
              "'Hello, there!'"
            ]
          },
          "execution_count": 2,
          "metadata": {},
          "output_type": "execute_result"
        }
      ],
      "source": [
        "greet()"
      ]
    },
    {
      "cell_type": "code",
      "execution_count": 3,
      "metadata": {
        "id": "N1kOsCQ1Jxt7"
      },
      "outputs": [],
      "source": [
        "def greet(name):\n",
        "    return f\"Hello, {name}!\""
      ]
    },
    {
      "cell_type": "code",
      "execution_count": 4,
      "metadata": {
        "colab": {
          "base_uri": "https://localhost:8080/",
          "height": 36
        },
        "id": "m_8eX1ObKHku",
        "outputId": "cfd5e80d-f97f-41c9-f4e6-fcfcbc756bf7"
      },
      "outputs": [
        {
          "data": {
            "text/plain": [
              "'Hello, Andy!'"
            ]
          },
          "execution_count": 4,
          "metadata": {},
          "output_type": "execute_result"
        }
      ],
      "source": [
        "greet(\"Andy\")"
      ]
    },
    {
      "cell_type": "code",
      "execution_count": 5,
      "metadata": {
        "id": "MnB4jp_OKWpL"
      },
      "outputs": [],
      "source": [
        "def greet(name=\"stranger\"):\n",
        "    print(f\"Hello, {name}!\")\n",
        "    return None"
      ]
    },
    {
      "cell_type": "code",
      "execution_count": 6,
      "metadata": {
        "colab": {
          "base_uri": "https://localhost:8080/"
        },
        "id": "5ITKyYHcKmSK",
        "outputId": "748641fc-c62e-4a9c-928d-c201221c5282"
      },
      "outputs": [
        {
          "name": "stdout",
          "output_type": "stream",
          "text": [
            "Hello, stranger!\n"
          ]
        }
      ],
      "source": [
        "greet()"
      ]
    },
    {
      "cell_type": "code",
      "execution_count": 7,
      "metadata": {
        "colab": {
          "base_uri": "https://localhost:8080/"
        },
        "id": "syXnRmSWKn6-",
        "outputId": "395366db-625d-4c07-f2cc-77199694dafb"
      },
      "outputs": [
        {
          "name": "stdout",
          "output_type": "stream",
          "text": [
            "Hello, Andy!\n"
          ]
        }
      ],
      "source": [
        "greet(\"Andy\")"
      ]
    },
    {
      "cell_type": "markdown",
      "metadata": {
        "id": "ncheEqrXKpMF"
      },
      "source": [
        "## Skill Challenge: Averaging Grades"
      ]
    },
    {
      "cell_type": "markdown",
      "metadata": {
        "id": "mqJaREZpL824"
      },
      "source": [
        "\n",
        "> <font size=\"4\">define a new function called calculate_average</font>\n",
        "\n",
        "> <font size=\"4\">it takes a single parameter called numbers, which should be a python list</font>\n",
        "\n",
        "> <font size=\"4\">if numbers is an empty list, the function should print out a message saying 'No numbers provided\" and return None</font>\n",
        "\n",
        "> <font size=\"4\">if numbers is not an empty list, the function should return the arithmetic average (i.e. the mean) of the numbers</font>\n",
        "\n",
        "> <font size=\"4\">also, before returning the average, the function should print out a message stating the count of numbers and the calculated average, e.g. \"Count: 2, Average: 3.1\"</font>"
      ]
    },
    {
      "cell_type": "markdown",
      "metadata": {
        "id": "xCpmWhiJNJn-"
      },
      "source": [
        "## Solution"
      ]
    },
    {
      "cell_type": "code",
      "execution_count": 8,
      "metadata": {
        "id": "wOt7vGzTN3XV"
      },
      "outputs": [],
      "source": [
        "def calculate_average(numbers):\n",
        "  if not numbers: # numbers == [] or len(numbers) == 0\n",
        "    print(\"No numbers provided\")\n",
        "    return None\n",
        "\n",
        "  total_sum = sum(numbers)\n",
        "  count = len(numbers)\n",
        "  average = total_sum / count\n",
        "\n",
        "  print(f\"Count: {count}, Average: {average}\")\n",
        "  return average"
      ]
    },
    {
      "cell_type": "code",
      "execution_count": 9,
      "metadata": {
        "id": "GIMPGo3HOksq"
      },
      "outputs": [],
      "source": [
        "numbers_list = [3, 5, 9, 12, 4]"
      ]
    },
    {
      "cell_type": "code",
      "execution_count": 10,
      "metadata": {
        "colab": {
          "base_uri": "https://localhost:8080/"
        },
        "id": "Yx4fO1dhOocQ",
        "outputId": "c3b2a94b-b0bd-4abf-9bec-1b0f121b7585"
      },
      "outputs": [
        {
          "name": "stdout",
          "output_type": "stream",
          "text": [
            "Count: 5, Average: 6.6\n"
          ]
        },
        {
          "data": {
            "text/plain": [
              "6.6"
            ]
          },
          "execution_count": 10,
          "metadata": {},
          "output_type": "execute_result"
        }
      ],
      "source": [
        "calculate_average(numbers_list)"
      ]
    },
    {
      "cell_type": "markdown",
      "metadata": {
        "id": "i33rcHWXOqEv"
      },
      "source": [
        "## More On Functions: \\*args and **kwargs"
      ]
    },
    {
      "cell_type": "code",
      "execution_count": 41,
      "metadata": {
        "id": "QinVTH7jO366"
      },
      "outputs": [],
      "source": [
        "def greet(name):\n",
        "    print(f\"Hello, {name}!\")"
      ]
    },
    {
      "cell_type": "code",
      "execution_count": null,
      "metadata": {},
      "outputs": [],
      "source": []
    },
    {
      "cell_type": "code",
      "execution_count": 42,
      "metadata": {
        "id": "MpSSBhsRPQLc"
      },
      "outputs": [],
      "source": [
        "def greet(name, other_name):\n",
        "    print(f\"Hello, {name} and {other_name}!\")"
      ]
    },
    {
      "cell_type": "code",
      "execution_count": 43,
      "metadata": {
        "colab": {
          "base_uri": "https://localhost:8080/"
        },
        "id": "aHfxf7XsQ4lv",
        "outputId": "b95beeec-4e03-4da8-8a46-15abbcdc439e"
      },
      "outputs": [
        {
          "name": "stdout",
          "output_type": "stream",
          "text": [
            "Hello, Andy and Yona!\n"
          ]
        }
      ],
      "source": [
        "greet(\"Andy\", \"Yona\")"
      ]
    },
    {
      "cell_type": "code",
      "execution_count": 44,
      "metadata": {
        "id": "k07xG5QuQ7VE"
      },
      "outputs": [],
      "source": [
        "def greet(*args):\n",
        "    # args = (\"Andy\", \"Yona\")\n",
        "      # -> \"Andy and Yona and ....\"\n",
        "\n",
        "    print(f\"Hello {' and '.join(args)}\")"
      ]
    },
    {
      "cell_type": "code",
      "execution_count": 45,
      "metadata": {
        "colab": {
          "base_uri": "https://localhost:8080/"
        },
        "id": "b3w5q-HwRlQr",
        "outputId": "101c8d1e-0ba3-4e4f-a75f-7f36a6d90abf"
      },
      "outputs": [
        {
          "name": "stdout",
          "output_type": "stream",
          "text": [
            "Hello Andy\n"
          ]
        }
      ],
      "source": [
        "greet(\"Andy\")"
      ]
    },
    {
      "cell_type": "code",
      "execution_count": 46,
      "metadata": {
        "colab": {
          "base_uri": "https://localhost:8080/"
        },
        "id": "kuxchKLwRoFm",
        "outputId": "f659716a-b8fb-4a12-9e53-5257aa5b99d2"
      },
      "outputs": [
        {
          "name": "stdout",
          "output_type": "stream",
          "text": [
            "Hello Andy and Yona\n"
          ]
        }
      ],
      "source": [
        "greet(\"Andy\", \"Yona\")"
      ]
    },
    {
      "cell_type": "code",
      "execution_count": 47,
      "metadata": {
        "colab": {
          "base_uri": "https://localhost:8080/"
        },
        "id": "Nf8XSM6kRpVQ",
        "outputId": "42a4f037-8ac5-4e09-8ced-53b095b1307a"
      },
      "outputs": [
        {
          "name": "stdout",
          "output_type": "stream",
          "text": [
            "Hello Andy and Yona and john and Doe\n"
          ]
        }
      ],
      "source": [
        "greet(\"Andy\", \"Yona\", \"john\", \"Doe\")"
      ]
    },
    {
      "cell_type": "code",
      "execution_count": 48,
      "metadata": {
        "id": "CYOOoGTuRra4"
      },
      "outputs": [],
      "source": [
        "def introduce(**kwargs):\n",
        "  for key, value in kwargs.items():\n",
        "    print(f\"{key}: {value}\")"
      ]
    },
    {
      "cell_type": "code",
      "execution_count": 49,
      "metadata": {
        "colab": {
          "base_uri": "https://localhost:8080/"
        },
        "id": "nHOSzUJeSLTG",
        "outputId": "5e86372c-da9c-4c4b-f0e9-8f54c241241c"
      },
      "outputs": [
        {
          "name": "stdout",
          "output_type": "stream",
          "text": [
            "name: Jane Bistro\n",
            "age: 27\n",
            "country: USA\n"
          ]
        }
      ],
      "source": [
        "introduce(name=\"Jane Bistro\", age=27, country=\"USA\")"
      ]
    },
    {
      "cell_type": "code",
      "execution_count": 50,
      "metadata": {
        "id": "m6jhMiHOSPeT"
      },
      "outputs": [],
      "source": [
        "# *args    -> positional args\n",
        "# **kwargs -> keyworded args"
      ]
    },
    {
      "cell_type": "code",
      "execution_count": 51,
      "metadata": {
        "id": "8A8lu_0uSeZ6"
      },
      "outputs": [],
      "source": [
        "def func(*args, **kwargs):\n",
        "  for arg in args:\n",
        "    print(arg)\n",
        "\n",
        "  for k, v in kwargs.items():\n",
        "    print(k, v)"
      ]
    },
    {
      "cell_type": "code",
      "execution_count": 52,
      "metadata": {
        "colab": {
          "base_uri": "https://localhost:8080/"
        },
        "id": "J23t9-UjSsDX",
        "outputId": "bfe6f8dc-35a8-4ce7-d960-3d1bb94ced8f"
      },
      "outputs": [
        {
          "name": "stdout",
          "output_type": "stream",
          "text": [
            "1\n",
            "2\n",
            "3\n",
            "name Lisa Bohn\n",
            "country Germany\n"
          ]
        }
      ],
      "source": [
        "func(1, 2, 3, name=\"Lisa Bohn\", country=\"Germany\")"
      ]
    },
    {
      "cell_type": "code",
      "execution_count": null,
      "metadata": {
        "id": "_VU9GMdCSwsj"
      },
      "outputs": [],
      "source": [
        "func(country=\"Germany\", 1, 2, 3, name=\"Lisa Bohn\")"
      ]
    },
    {
      "cell_type": "code",
      "execution_count": 56,
      "metadata": {
        "colab": {
          "base_uri": "https://localhost:8080/"
        },
        "id": "cJ8McEzZS2_d",
        "outputId": "6aa2ece7-5fe1-4fd2-fe0a-a0426484b606"
      },
      "outputs": [
        {
          "name": "stdout",
          "output_type": "stream",
          "text": [
            "3\n",
            "2\n",
            "1\n",
            "country Germany\n",
            "name Lisa Bohn\n"
          ]
        }
      ],
      "source": [
        "func(3, 2, 1, country=\"Germany\", name=\"Lisa Bohn\")"
      ]
    },
    {
      "cell_type": "code",
      "execution_count": null,
      "metadata": {
        "id": "77Nhi_IrTCJ1"
      },
      "outputs": [],
      "source": [
        "# (a, b, c) -> (b, a, c)\n",
        "\n",
        "# {\"a\": 1, \"b\": 2} -> {\"b\": 2, \"a\": 1}"
      ]
    },
    {
      "cell_type": "code",
      "execution_count": 59,
      "metadata": {
        "id": "WZkPjKXoTcz4"
      },
      "outputs": [],
      "source": [
        "def func(*andy, **bek):\n",
        "  pass"
      ]
    },
    {
      "cell_type": "code",
      "execution_count": null,
      "metadata": {
        "id": "WMQ4f9oPTee-"
      },
      "outputs": [],
      "source": [
        "# variadic funcs\n",
        "# variable arity"
      ]
    },
    {
      "cell_type": "markdown",
      "metadata": {
        "id": "p6mOYiWUUVb0"
      },
      "source": [
        "## Skill Challenge: Variadics"
      ]
    },
    {
      "cell_type": "markdown",
      "metadata": {
        "id": "y4qgngWMUYNd"
      },
      "source": [
        "\n",
        "> <font size=\"4\">modify the calculate_average function so it accepts a variable number of positional arguments, instead of a single python list</font>\n",
        "\n",
        "> <font size=\"4\">in addition, add an optional keyword argument called \"round_to\", which should accept an integer and round the average to that many decimal places before returning it</font>\n",
        "\n",
        "\n",
        "> ```\n",
        "calculate_average(1, 2, 3, 4, 5) # Count: 5, Average: 3.0\n",
        "\n",
        ">```\n",
        "calculate_average(1, 2.1, 3.123, 4.070001, 5, round_to=3) # Count: 5, Average: 3.059\n",
        "\n"
      ]
    },
    {
      "cell_type": "code",
      "execution_count": 62,
      "metadata": {
        "id": "VtespV7_UYtl"
      },
      "outputs": [],
      "source": [
        "def calculate_average(numbers):\n",
        "  if not numbers: # numbers == [] or len(numbers) == 0\n",
        "    print(\"No numbers provided\")\n",
        "    return None\n",
        "\n",
        "  total_sum = sum(numbers)\n",
        "  count = len(numbers)\n",
        "  average = total_sum / count\n",
        "\n",
        "  print(f\"Count: {count}, Average: {average}\")\n",
        "  return average"
      ]
    },
    {
      "cell_type": "markdown",
      "metadata": {
        "id": "9tntdJkQVel3"
      },
      "source": [
        "## Solution"
      ]
    },
    {
      "cell_type": "code",
      "execution_count": 67,
      "metadata": {
        "id": "gmmXIa7_Wl0A"
      },
      "outputs": [],
      "source": [
        "def calculate_average(*numbers, round_to=2):\n",
        "  if not numbers: # numbers == (,) or len(numbers) == 0\n",
        "    print(\"No numbers provided\")\n",
        "    return None\n",
        "\n",
        "  total_sum = sum(numbers)\n",
        "  count = len(numbers)\n",
        "  average = total_sum / count\n",
        "  round_average = round(average, round_to)\n",
        "\n",
        "  print(f\"Count: {count}, Average: {round_average}\")\n",
        "  return round_average"
      ]
    },
    {
      "cell_type": "code",
      "execution_count": 68,
      "metadata": {
        "colab": {
          "base_uri": "https://localhost:8080/"
        },
        "id": "qV54cQNyWpdr",
        "outputId": "65c421da-888e-4385-9d93-406464ab2c64"
      },
      "outputs": [
        {
          "name": "stdout",
          "output_type": "stream",
          "text": [
            "Count: 5, Average: 3.059\n"
          ]
        },
        {
          "data": {
            "text/plain": [
              "3.059"
            ]
          },
          "execution_count": 68,
          "metadata": {},
          "output_type": "execute_result"
        }
      ],
      "source": [
        "calculate_average(1, 2.1, 3.123, 4.070001, 5, round_to=3)"
      ]
    },
    {
      "cell_type": "code",
      "execution_count": 70,
      "metadata": {
        "colab": {
          "base_uri": "https://localhost:8080/"
        },
        "id": "fZdDc9JeWsob",
        "outputId": "4d5c3102-b9aa-46bb-fec0-3db96b51d8b3"
      },
      "outputs": [
        {
          "name": "stdout",
          "output_type": "stream",
          "text": [
            "Count: 4, Average: 27.5\n"
          ]
        },
        {
          "data": {
            "text/plain": [
              "27.5"
            ]
          },
          "execution_count": 70,
          "metadata": {},
          "output_type": "execute_result"
        }
      ],
      "source": [
        "calculate_average(10, 20, 30, 50)"
      ]
    },
    {
      "cell_type": "markdown",
      "metadata": {
        "id": "1vr7bfEeXfdb"
      },
      "source": [
        "## Higher-Order Functions"
      ]
    },
    {
      "cell_type": "markdown",
      "metadata": {
        "id": "9Gxq2MxNXsZJ"
      },
      "source": [
        "> <font size=\"4\">funcs as arguments?</font>"
      ]
    },
    {
      "cell_type": "code",
      "execution_count": 72,
      "metadata": {
        "id": "zL4bHaHXbxZ1"
      },
      "outputs": [],
      "source": [
        "def loud(func):\n",
        "\n",
        "  def wrapper():\n",
        "    return func().upper() + \"!!!\"\n",
        "\n",
        "  return wrapper"
      ]
    },
    {
      "cell_type": "code",
      "execution_count": null,
      "metadata": {
        "id": "2FEoFyI3b1se"
      },
      "outputs": [],
      "source": []
    },
    {
      "cell_type": "markdown",
      "metadata": {
        "id": "M0wj2lh3bKdc"
      },
      "source": [
        "> <font size=\"4\">HOFs</font>"
      ]
    },
    {
      "cell_type": "code",
      "execution_count": 73,
      "metadata": {
        "id": "B_YlPOCyc0W-"
      },
      "outputs": [],
      "source": [
        "# > take one or more functions as their arguments, or\n",
        "# > return a function as its result"
      ]
    },
    {
      "cell_type": "code",
      "execution_count": 74,
      "metadata": {
        "id": "G402nlEnc4_p"
      },
      "outputs": [],
      "source": [
        "def greet():\n",
        "  return \"Hello, there\""
      ]
    },
    {
      "cell_type": "code",
      "execution_count": 75,
      "metadata": {
        "id": "E_PFBWgodN9P"
      },
      "outputs": [],
      "source": [
        "loud_greet = loud(greet)"
      ]
    },
    {
      "cell_type": "code",
      "execution_count": 76,
      "metadata": {
        "colab": {
          "base_uri": "https://localhost:8080/",
          "height": 36
        },
        "id": "LVbcXwhpdXAJ",
        "outputId": "84b8a9da-528d-49ea-f4fd-98c5ef0b1275"
      },
      "outputs": [
        {
          "data": {
            "application/vnd.google.colaboratory.intrinsic+json": {
              "type": "string"
            },
            "text/plain": [
              "'HELLO, THERE!!!'"
            ]
          },
          "execution_count": 76,
          "metadata": {},
          "output_type": "execute_result"
        }
      ],
      "source": [
        "loud_greet()"
      ]
    },
    {
      "cell_type": "markdown",
      "metadata": {
        "id": "bv4MRhlaeH-_"
      },
      "source": [
        "## Skill Challenge: Arithmetic HOF"
      ]
    },
    {
      "cell_type": "markdown",
      "metadata": {
        "id": "dq7kls6sdo5F"
      },
      "source": [
        "> <font size=\"4\">define an HOF called 'double', that takes a function as its argument, and returns a modified version of it where the output of that func is multiplied by 2</font>\n",
        "\n",
        "> <font size=\"4\">define another function, 'add' that takes two arguments and returns their sum</font>\n",
        "\n",
        "> <font size=\"4\">apply the 'double' HOF to 'add' and store the result in a new function 'double_add', which when invokes should return the sum of two numbers multiplied by 2</font>\n",
        "\n",
        "> ```\n",
        "add(1, 2) # Output: 3, because 1+2 = 3\n",
        "\n",
        "> ```\n",
        "double_add(1, 2) # Output: 6, because (1+2)*2 = 6\n",
        "\n",
        ">```\n",
        "double_add(5, 10) # Output: 30, because (5+10)*2 = 30\n",
        "\n"
      ]
    },
    {
      "cell_type": "markdown",
      "metadata": {
        "id": "d9TJQbN4fDeu"
      },
      "source": [
        "## Solution"
      ]
    },
    {
      "cell_type": "code",
      "execution_count": 82,
      "metadata": {
        "id": "sLfxaYkugtKJ"
      },
      "outputs": [],
      "source": [
        "# def add(x, y):\n",
        "#   return x + y"
      ]
    },
    {
      "cell_type": "code",
      "execution_count": 83,
      "metadata": {
        "id": "qsa1-nkZg8bB"
      },
      "outputs": [],
      "source": [
        "from operator import add"
      ]
    },
    {
      "cell_type": "code",
      "execution_count": 85,
      "metadata": {
        "colab": {
          "base_uri": "https://localhost:8080/"
        },
        "id": "j7F8ticEg-hT",
        "outputId": "d95077a5-ac47-4426-d297-6da739eef8aa"
      },
      "outputs": [
        {
          "data": {
            "text/plain": [
              "3"
            ]
          },
          "execution_count": 85,
          "metadata": {},
          "output_type": "execute_result"
        }
      ],
      "source": [
        "add(1, 2)"
      ]
    },
    {
      "cell_type": "code",
      "execution_count": 86,
      "metadata": {
        "id": "BR7xk9RIhCI6"
      },
      "outputs": [],
      "source": [
        "def double(func):\n",
        "  def inner(*args):\n",
        "    return func(*args) * 2\n",
        "\n",
        "  return inner"
      ]
    },
    {
      "cell_type": "code",
      "execution_count": 87,
      "metadata": {
        "id": "HgOSasBjhKmx"
      },
      "outputs": [],
      "source": [
        "double_add = double(add)"
      ]
    },
    {
      "cell_type": "code",
      "execution_count": 88,
      "metadata": {
        "colab": {
          "base_uri": "https://localhost:8080/"
        },
        "id": "W19tleqihO4y",
        "outputId": "4c9537e6-3bd1-41c0-bdff-728d42ad7d23"
      },
      "outputs": [
        {
          "data": {
            "text/plain": [
              "6"
            ]
          },
          "execution_count": 88,
          "metadata": {},
          "output_type": "execute_result"
        }
      ],
      "source": [
        "double_add(1, 2)"
      ]
    },
    {
      "cell_type": "code",
      "execution_count": 90,
      "metadata": {
        "colab": {
          "base_uri": "https://localhost:8080/"
        },
        "id": "PijV7WSehT4R",
        "outputId": "c8cab65b-7959-43aa-8bd4-d0367c74e945"
      },
      "outputs": [
        {
          "data": {
            "text/plain": [
              "32"
            ]
          },
          "execution_count": 90,
          "metadata": {},
          "output_type": "execute_result"
        }
      ],
      "source": [
        "double_add(5, 11)"
      ]
    },
    {
      "cell_type": "code",
      "execution_count": 91,
      "metadata": {
        "id": "Ja1UDspyhW85"
      },
      "outputs": [],
      "source": [
        "# (5+11) = 16 * 2 = 32"
      ]
    },
    {
      "cell_type": "markdown",
      "metadata": {
        "id": "RbOkCsTqhapJ"
      },
      "source": [
        "## First-Class Functions"
      ]
    },
    {
      "cell_type": "markdown",
      "metadata": {
        "id": "fIvT8EbRjaRd"
      },
      "source": [
        "> <font size=\"4\">first-class functions</font>"
      ]
    },
    {
      "cell_type": "code",
      "execution_count": 92,
      "metadata": {
        "id": "5fAnr1zHi5vf"
      },
      "outputs": [],
      "source": [
        "def loud_greeting(name):\n",
        "  return f\"HELLO {name.upper()}!!!\""
      ]
    },
    {
      "cell_type": "code",
      "execution_count": 93,
      "metadata": {
        "id": "qFV4ddJli5ku"
      },
      "outputs": [],
      "source": [
        "def quiet_greeting(name):\n",
        "  return f\"Hello, {name}...\""
      ]
    },
    {
      "cell_type": "code",
      "execution_count": 94,
      "metadata": {
        "id": "wCtcznZui5Yx"
      },
      "outputs": [],
      "source": [
        "def greet(name, greeting):\n",
        "  return greeting(name)"
      ]
    },
    {
      "cell_type": "code",
      "execution_count": 96,
      "metadata": {
        "colab": {
          "base_uri": "https://localhost:8080/",
          "height": 36
        },
        "id": "gFvmLAcki5MD",
        "outputId": "492781df-a30e-4ed2-e016-527c9307fddb"
      },
      "outputs": [
        {
          "data": {
            "application/vnd.google.colaboratory.intrinsic+json": {
              "type": "string"
            },
            "text/plain": [
              "'HELLO ANDY!!!'"
            ]
          },
          "execution_count": 96,
          "metadata": {},
          "output_type": "execute_result"
        }
      ],
      "source": [
        "greet(\"Andy\", loud_greeting)"
      ]
    },
    {
      "cell_type": "code",
      "execution_count": 97,
      "metadata": {
        "colab": {
          "base_uri": "https://localhost:8080/",
          "height": 36
        },
        "id": "6CmVz1gOi42v",
        "outputId": "4b9ddb82-ba0c-456e-d9d0-1b350b187a45"
      },
      "outputs": [
        {
          "data": {
            "application/vnd.google.colaboratory.intrinsic+json": {
              "type": "string"
            },
            "text/plain": [
              "'Hello, Andy...'"
            ]
          },
          "execution_count": 97,
          "metadata": {},
          "output_type": "execute_result"
        }
      ],
      "source": [
        "greet(\"Andy\", quiet_greeting)"
      ]
    },
    {
      "cell_type": "code",
      "execution_count": 99,
      "metadata": {
        "id": "FMJuLtcPi24w"
      },
      "outputs": [],
      "source": [
        "from typing import Callable\n",
        "\n",
        "def greet(name: str, greeting: Callable[[str], str]) -> str:\n",
        "  return greeting(name)"
      ]
    },
    {
      "cell_type": "code",
      "execution_count": 101,
      "metadata": {
        "id": "ER9gS_q6kL8j"
      },
      "outputs": [],
      "source": [
        "nums = [1,2, 234, 123, 9]"
      ]
    },
    {
      "cell_type": "code",
      "execution_count": 102,
      "metadata": {
        "id": "wUrgxEkYkkwB"
      },
      "outputs": [],
      "source": [
        "def is_even(num):\n",
        "  return num % 2 == 0"
      ]
    },
    {
      "cell_type": "code",
      "execution_count": 104,
      "metadata": {
        "colab": {
          "base_uri": "https://localhost:8080/"
        },
        "id": "zdItT2efkrPU",
        "outputId": "00a40e93-d2e2-48a4-abe6-1f0805d9ab21"
      },
      "outputs": [
        {
          "data": {
            "text/plain": [
              "False"
            ]
          },
          "execution_count": 104,
          "metadata": {},
          "output_type": "execute_result"
        }
      ],
      "source": [
        "is_even(3)"
      ]
    },
    {
      "cell_type": "code",
      "execution_count": 105,
      "metadata": {
        "colab": {
          "base_uri": "https://localhost:8080/"
        },
        "id": "ZjPHWkNDkr8H",
        "outputId": "2cb2cb4c-8100-4df8-f07f-43fcc5fb1736"
      },
      "outputs": [
        {
          "data": {
            "text/plain": [
              "[2, 234]"
            ]
          },
          "execution_count": 105,
          "metadata": {},
          "output_type": "execute_result"
        }
      ],
      "source": [
        "list(filter(is_even, nums))"
      ]
    },
    {
      "cell_type": "code",
      "execution_count": 106,
      "metadata": {
        "colab": {
          "base_uri": "https://localhost:8080/"
        },
        "id": "y0gGbX1BkwRV",
        "outputId": "83210d51-ce18-4026-b432-1456112234e2"
      },
      "outputs": [
        {
          "data": {
            "text/plain": [
              "[2, 234]"
            ]
          },
          "execution_count": 106,
          "metadata": {},
          "output_type": "execute_result"
        }
      ],
      "source": [
        "list(filter(lambda n: n % 2 == 0, nums))"
      ]
    },
    {
      "cell_type": "markdown",
      "metadata": {
        "id": "09MEv0U9pcDk"
      },
      "source": [
        "## Closures"
      ]
    },
    {
      "cell_type": "code",
      "execution_count": 6,
      "metadata": {
        "id": "YmdH7rLRq2uE"
      },
      "outputs": [],
      "source": [
        "def outer(x):\n",
        "    def inner(y):\n",
        "        return x + y\n",
        "    return inner"
      ]
    },
    {
      "cell_type": "code",
      "execution_count": 8,
      "metadata": {
        "id": "zZ4Z8BXd8wbY"
      },
      "outputs": [],
      "source": [
        "closure = outer(10)"
      ]
    },
    {
      "cell_type": "code",
      "execution_count": 9,
      "metadata": {
        "colab": {
          "base_uri": "https://localhost:8080/"
        },
        "id": "Xlj6ktcf9Xj_",
        "outputId": "9d296771-93e8-4c72-e650-cf2e66a5a515"
      },
      "outputs": [
        {
          "data": {
            "text/plain": [
              "16"
            ]
          },
          "execution_count": 9,
          "metadata": {},
          "output_type": "execute_result"
        }
      ],
      "source": [
        "closure(6)"
      ]
    },
    {
      "cell_type": "code",
      "execution_count": 10,
      "metadata": {
        "colab": {
          "base_uri": "https://localhost:8080/"
        },
        "id": "t5oGm0ld9sst",
        "outputId": "58fcf87f-ee51-4f00-8fcc-573d7bf4c3db"
      },
      "outputs": [
        {
          "data": {
            "text/plain": [
              "22"
            ]
          },
          "execution_count": 10,
          "metadata": {},
          "output_type": "execute_result"
        }
      ],
      "source": [
        "closure(12)"
      ]
    },
    {
      "cell_type": "code",
      "execution_count": 11,
      "metadata": {
        "id": "LxRocbUT9tyl"
      },
      "outputs": [],
      "source": [
        "def make_multiplier(x):\n",
        "  def multiplier(n):\n",
        "    return x * n\n",
        "\n",
        "  return multiplier"
      ]
    },
    {
      "cell_type": "code",
      "execution_count": 13,
      "metadata": {
        "id": "gTCauy9y-Dcx"
      },
      "outputs": [],
      "source": [
        "times_two = make_multiplier(2)\n",
        "times_three = make_multiplier(3)"
      ]
    },
    {
      "cell_type": "code",
      "execution_count": 14,
      "metadata": {
        "colab": {
          "base_uri": "https://localhost:8080/"
        },
        "id": "WZDsrH7m-HfV",
        "outputId": "40e57f6b-453d-4307-c94e-1cb9a3e1c6e9"
      },
      "outputs": [
        {
          "data": {
            "text/plain": [
              "12"
            ]
          },
          "execution_count": 14,
          "metadata": {},
          "output_type": "execute_result"
        }
      ],
      "source": [
        "times_three(4)"
      ]
    },
    {
      "cell_type": "code",
      "execution_count": 15,
      "metadata": {
        "colab": {
          "base_uri": "https://localhost:8080/"
        },
        "id": "1_5WZs9L-LQ9",
        "outputId": "52fee1c9-652c-4fc4-c5e0-24b722851548"
      },
      "outputs": [
        {
          "data": {
            "text/plain": [
              "14"
            ]
          },
          "execution_count": 15,
          "metadata": {},
          "output_type": "execute_result"
        }
      ],
      "source": [
        "times_two(7)"
      ]
    },
    {
      "cell_type": "code",
      "execution_count": 16,
      "metadata": {
        "id": "CNBsK87C-NM7"
      },
      "outputs": [],
      "source": [
        "# data hiding & encapsulation"
      ]
    },
    {
      "cell_type": "markdown",
      "metadata": {
        "id": "EL0PXm4--ex4"
      },
      "source": [
        "## Skill Challenge: Counter Factory"
      ]
    },
    {
      "cell_type": "markdown",
      "metadata": {
        "id": "byca4ybS-_8Q"
      },
      "source": [
        "> <font size=\"4\">define a function called 'create_counter' that returns a 'counter' function that retains/remembers its own state, i.e. a closure</font>\n",
        "\n",
        "> <font size=\"4\">the 'counter' function should increment the count each time it is called, before returning it</font>\n",
        "\n",
        "> <font size=\"4\">as a bonus, implement 'create_counter' so that it takes a parameter called 'start' that determines the starting count for the counter it returns; if no start value is provided, 'start' should default to 0</font>\n",
        "\n",
        "> ```\n",
        "counterA = create_counter()\n",
        "counterA() # returns: 1\n",
        "counterA() # returns: 2\n",
        "counterB = create_counter()\n",
        "counterB() # returns: 1\n",
        "counterA() # returns: 3\n",
        "counterB() # returns: 2\n",
        "\n"
      ]
    },
    {
      "cell_type": "markdown",
      "metadata": {
        "id": "ohgTmXiODWGB"
      },
      "source": [
        "## Solution"
      ]
    },
    {
      "cell_type": "code",
      "execution_count": 18,
      "metadata": {
        "id": "iFWbhvcADYke"
      },
      "outputs": [],
      "source": [
        "# mutable (list, dict) vs immutable (int, tuple)\n",
        "\n",
        "def create_counter(start=0):\n",
        "  count = [start]\n",
        "\n",
        "  def counter():\n",
        "    count[0] += 1\n",
        "    return count[0]\n",
        "\n",
        "  return counter"
      ]
    },
    {
      "cell_type": "code",
      "execution_count": 19,
      "metadata": {
        "id": "jiczFnxKAPZJ"
      },
      "outputs": [],
      "source": [
        "counter1 = create_counter()"
      ]
    },
    {
      "cell_type": "code",
      "execution_count": 20,
      "metadata": {
        "colab": {
          "base_uri": "https://localhost:8080/"
        },
        "id": "dMYug7EiEyaR",
        "outputId": "9291a0fb-f4b3-4734-e738-a35b8c9dbc52"
      },
      "outputs": [
        {
          "data": {
            "text/plain": [
              "1"
            ]
          },
          "execution_count": 20,
          "metadata": {},
          "output_type": "execute_result"
        }
      ],
      "source": [
        "counter1()"
      ]
    },
    {
      "cell_type": "code",
      "execution_count": 21,
      "metadata": {
        "colab": {
          "base_uri": "https://localhost:8080/"
        },
        "id": "X71FB_FTEzjg",
        "outputId": "2dc18de2-923c-4cfb-c1fd-833c265f96a4"
      },
      "outputs": [
        {
          "data": {
            "text/plain": [
              "2"
            ]
          },
          "execution_count": 21,
          "metadata": {},
          "output_type": "execute_result"
        }
      ],
      "source": [
        "counter1()"
      ]
    },
    {
      "cell_type": "code",
      "execution_count": 22,
      "metadata": {
        "id": "WhgipGrFE0av"
      },
      "outputs": [],
      "source": [
        "counter2 = create_counter()"
      ]
    },
    {
      "cell_type": "code",
      "execution_count": 24,
      "metadata": {
        "colab": {
          "base_uri": "https://localhost:8080/"
        },
        "id": "0DrK0JldE177",
        "outputId": "5118ebd5-a37d-4479-9863-7e5127e97250"
      },
      "outputs": [
        {
          "data": {
            "text/plain": [
              "1"
            ]
          },
          "execution_count": 24,
          "metadata": {},
          "output_type": "execute_result"
        }
      ],
      "source": [
        "counter2()"
      ]
    },
    {
      "cell_type": "code",
      "execution_count": 26,
      "metadata": {
        "colab": {
          "base_uri": "https://localhost:8080/"
        },
        "id": "x7qHUxk7E241",
        "outputId": "51419178-e08e-411d-f854-3bdfc6533725"
      },
      "outputs": [
        {
          "data": {
            "text/plain": [
              "4"
            ]
          },
          "execution_count": 26,
          "metadata": {},
          "output_type": "execute_result"
        }
      ],
      "source": [
        "counter1()"
      ]
    },
    {
      "cell_type": "code",
      "execution_count": 27,
      "metadata": {
        "id": "qY5U7TdwE5Km"
      },
      "outputs": [],
      "source": [
        "counter3 = create_counter(6)"
      ]
    },
    {
      "cell_type": "code",
      "execution_count": 28,
      "metadata": {
        "colab": {
          "base_uri": "https://localhost:8080/"
        },
        "id": "QLiADANZE88L",
        "outputId": "25a2b7c6-2993-4f50-f992-c945f08141c9"
      },
      "outputs": [
        {
          "data": {
            "text/plain": [
              "7"
            ]
          },
          "execution_count": 28,
          "metadata": {},
          "output_type": "execute_result"
        }
      ],
      "source": [
        "counter3()"
      ]
    },
    {
      "cell_type": "markdown",
      "metadata": {
        "id": "OKuIdVprE9o7"
      },
      "source": [
        "## Basic Introduction to Decorators"
      ]
    },
    {
      "cell_type": "code",
      "execution_count": 1,
      "metadata": {
        "id": "0WRFQCLBMbzr"
      },
      "outputs": [],
      "source": [
        "def fry():\n",
        "    return \"Frying the food!\"\n",
        "\n",
        "def grill():\n",
        "    return \"Grilling the food!\"\n",
        "\n",
        "def boil():\n",
        "    return \"Boiling the food!\""
      ]
    },
    {
      "cell_type": "code",
      "execution_count": null,
      "metadata": {
        "id": "bP4OFjQ-Mbi7"
      },
      "outputs": [],
      "source": [
        "# '@' - pie decorator syntax"
      ]
    },
    {
      "cell_type": "code",
      "execution_count": 2,
      "metadata": {
        "id": "AuH57UVYMbXu"
      },
      "outputs": [],
      "source": [
        "def seasoning(chef):\n",
        "  def wrapper():\n",
        "    print(\"Adding some salt and pepper!\")\n",
        "    return chef()\n",
        "  return wrapper"
      ]
    },
    {
      "cell_type": "code",
      "execution_count": 5,
      "metadata": {
        "id": "fhnOsvctMbGZ"
      },
      "outputs": [],
      "source": [
        "@seasoning\n",
        "def fry():\n",
        "    return \"Frying the food!\"\n",
        "\n",
        "@seasoning\n",
        "def grill():\n",
        "    return \"Grilling the food!\"\n",
        "\n",
        "def boil():\n",
        "    return \"Boiling the food!\""
      ]
    },
    {
      "cell_type": "code",
      "execution_count": 4,
      "metadata": {
        "colab": {
          "base_uri": "https://localhost:8080/",
          "height": 54
        },
        "id": "bdLwsdWjMa8T",
        "outputId": "c200d390-bcde-46fc-eae2-da9dcd4beef0"
      },
      "outputs": [
        {
          "name": "stdout",
          "output_type": "stream",
          "text": [
            "Adding some salt and pepper!\n"
          ]
        },
        {
          "data": {
            "application/vnd.google.colaboratory.intrinsic+json": {
              "type": "string"
            },
            "text/plain": [
              "'Frying the food!'"
            ]
          },
          "execution_count": 4,
          "metadata": {},
          "output_type": "execute_result"
        }
      ],
      "source": [
        "fry()"
      ]
    },
    {
      "cell_type": "code",
      "execution_count": 6,
      "metadata": {
        "colab": {
          "base_uri": "https://localhost:8080/",
          "height": 54
        },
        "id": "HBzvBk9xMY0U",
        "outputId": "df475544-763e-458e-ec3e-c0686ae58d2b"
      },
      "outputs": [
        {
          "name": "stdout",
          "output_type": "stream",
          "text": [
            "Adding some salt and pepper!\n"
          ]
        },
        {
          "data": {
            "application/vnd.google.colaboratory.intrinsic+json": {
              "type": "string"
            },
            "text/plain": [
              "'Grilling the food!'"
            ]
          },
          "execution_count": 6,
          "metadata": {},
          "output_type": "execute_result"
        }
      ],
      "source": [
        "grill()"
      ]
    },
    {
      "cell_type": "code",
      "execution_count": 7,
      "metadata": {
        "colab": {
          "base_uri": "https://localhost:8080/",
          "height": 36
        },
        "id": "VoXcSGQpNgQ_",
        "outputId": "04617fee-81da-45ed-99bf-0a87aeb5d6e3"
      },
      "outputs": [
        {
          "data": {
            "application/vnd.google.colaboratory.intrinsic+json": {
              "type": "string"
            },
            "text/plain": [
              "'Boiling the food!'"
            ]
          },
          "execution_count": 7,
          "metadata": {},
          "output_type": "execute_result"
        }
      ],
      "source": [
        "boil()"
      ]
    },
    {
      "cell_type": "code",
      "execution_count": 8,
      "metadata": {
        "id": "Sku2OsGHNg2m"
      },
      "outputs": [],
      "source": [
        "seasoned_boil = seasoning(boil)"
      ]
    },
    {
      "cell_type": "code",
      "execution_count": 9,
      "metadata": {
        "colab": {
          "base_uri": "https://localhost:8080/",
          "height": 54
        },
        "id": "OtIzzl4aN3Il",
        "outputId": "fbab6046-ef61-40d4-edb6-e56fbcb99978"
      },
      "outputs": [
        {
          "name": "stdout",
          "output_type": "stream",
          "text": [
            "Adding some salt and pepper!\n"
          ]
        },
        {
          "data": {
            "application/vnd.google.colaboratory.intrinsic+json": {
              "type": "string"
            },
            "text/plain": [
              "'Boiling the food!'"
            ]
          },
          "execution_count": 9,
          "metadata": {},
          "output_type": "execute_result"
        }
      ],
      "source": [
        "seasoned_boil()"
      ]
    },
    {
      "cell_type": "code",
      "execution_count": null,
      "metadata": {
        "id": "jHploOOpN4yg"
      },
      "outputs": [],
      "source": [
        "# callables -> function, class, method"
      ]
    },
    {
      "cell_type": "markdown",
      "metadata": {
        "id": "QIj66sENOrb9"
      },
      "source": [
        "## Skill Challenge - Let's Log"
      ]
    },
    {
      "cell_type": "markdown",
      "metadata": {
        "id": "9MyMFCRbOt9j"
      },
      "source": [
        "> <font size=\"4\">define a decorator called 'logger' that logs out the function name and args/kwargs of the function it is applied to as well as the result that the function returns</font>\n",
        "\n",
        "\n",
        "> ```\n",
        "@logger\n",
        "def calculate_sum(a, b):\n",
        "    return a + b\n",
        "\n",
        "> ```\n",
        "calculate_sum(3, 6)\n",
        "\n",
        "> ```\n",
        "Calling function: 'calculate_sum' with arguments: (3, 6) {}\n",
        "Function 'calculate_sum' returned: 9\n",
        "9\n",
        "\n"
      ]
    },
    {
      "cell_type": "markdown",
      "metadata": {
        "id": "6Mx_VVy7PYvx"
      },
      "source": [
        "## Solution"
      ]
    },
    {
      "cell_type": "code",
      "execution_count": 22,
      "metadata": {
        "id": "755-V5dSSdYS"
      },
      "outputs": [],
      "source": [
        "def logger(func):\n",
        "  def wrapper(*args, **kwargs):\n",
        "    print(f\"Calling function: '{func.__name__}' with arguments: {args}, {kwargs}\")\n",
        "    result = func(*args, **kwargs)\n",
        "    print(f\"Function '{func.__name__}' returned: {result}\")\n",
        "    return result\n",
        "  return wrapper"
      ]
    },
    {
      "cell_type": "code",
      "execution_count": 22,
      "metadata": {
        "id": "WBWhyPGNRs9l"
      },
      "outputs": [],
      "source": []
    },
    {
      "cell_type": "code",
      "execution_count": 25,
      "metadata": {
        "colab": {
          "base_uri": "https://localhost:8080/"
        },
        "id": "0Fy9od-WQxKz",
        "outputId": "7ce6c980-78b6-4e84-ffa8-c3d8ee5ee4d5"
      },
      "outputs": [
        {
          "name": "stdout",
          "output_type": "stream",
          "text": [
            "Calling function: 'calculate_sum' with arguments: (3, 6), {'random_kw': 'helo there'}\n",
            "Function 'calculate_sum' returned: 9\n"
          ]
        },
        {
          "data": {
            "text/plain": [
              "9"
            ]
          },
          "execution_count": 25,
          "metadata": {},
          "output_type": "execute_result"
        }
      ],
      "source": [
        "@logger\n",
        "def calculate_sum(a, b, **kwargs):\n",
        "    return a + b\n",
        "\n",
        "calculate_sum(3, 6, random_kw=\"helo there\")"
      ]
    },
    {
      "cell_type": "markdown",
      "metadata": {
        "id": "nQLEgwTbSK37"
      },
      "source": [
        "## Decorating Parameterized Functions"
      ]
    },
    {
      "cell_type": "code",
      "execution_count": 20,
      "metadata": {
        "id": "JvJwoirFTop7"
      },
      "outputs": [],
      "source": [
        "def simple_decorator(func):\n",
        "    def wrapper():\n",
        "        print(\"Before function execution\")\n",
        "        result = func()\n",
        "        print(\"After function execution\")\n",
        "        return result\n",
        "    return wrapper\n",
        "\n",
        "@simple_decorator\n",
        "def greet():\n",
        "    return \"Hello, world!\""
      ]
    },
    {
      "cell_type": "code",
      "execution_count": 17,
      "metadata": {
        "colab": {
          "base_uri": "https://localhost:8080/",
          "height": 73
        },
        "id": "WMXfipJLToaB",
        "outputId": "0aa80fbb-e0b5-48c6-97d7-0d5ad97372c9"
      },
      "outputs": [
        {
          "name": "stdout",
          "output_type": "stream",
          "text": [
            "Before function execution\n",
            "After function execution\n"
          ]
        },
        {
          "data": {
            "application/vnd.google.colaboratory.intrinsic+json": {
              "type": "string"
            },
            "text/plain": [
              "'Hello, world!'"
            ]
          },
          "execution_count": 17,
          "metadata": {},
          "output_type": "execute_result"
        }
      ],
      "source": [
        "greet()"
      ]
    },
    {
      "cell_type": "code",
      "execution_count": 21,
      "metadata": {
        "id": "ofrJL9geBsKx"
      },
      "outputs": [],
      "source": [
        "def simple_decorator(func):\n",
        "    def wrapper(name):\n",
        "        print(\"Before function execution\")\n",
        "        result = func(name)\n",
        "        print(\"After function execution\")\n",
        "        return result\n",
        "    return wrapper"
      ]
    },
    {
      "cell_type": "code",
      "execution_count": 22,
      "metadata": {
        "id": "qlQt4_8uBI-J"
      },
      "outputs": [],
      "source": [
        "@simple_decorator\n",
        "def greet(name):\n",
        "    return f\"Hello, {name}!\""
      ]
    },
    {
      "cell_type": "code",
      "execution_count": 23,
      "metadata": {
        "colab": {
          "base_uri": "https://localhost:8080/",
          "height": 73
        },
        "id": "H3r9d3TWBJM8",
        "outputId": "23339cb2-51f4-40fb-e23b-da2a63e38883"
      },
      "outputs": [
        {
          "name": "stdout",
          "output_type": "stream",
          "text": [
            "Before function execution\n",
            "After function execution\n"
          ]
        },
        {
          "data": {
            "application/vnd.google.colaboratory.intrinsic+json": {
              "type": "string"
            },
            "text/plain": [
              "'Hello, Andy!'"
            ]
          },
          "execution_count": 23,
          "metadata": {},
          "output_type": "execute_result"
        }
      ],
      "source": [
        "greet(\"Andy\")"
      ]
    },
    {
      "cell_type": "code",
      "execution_count": 28,
      "metadata": {
        "id": "47IyE7SKBJYN"
      },
      "outputs": [],
      "source": [
        "def simple_decorator(func):\n",
        "    def wrapper(*args, **kwargs):\n",
        "        print(\"Before function execution\")\n",
        "        result = func(*args, **kwargs)\n",
        "        print(\"After function execution\")\n",
        "        return result\n",
        "    return wrapper"
      ]
    },
    {
      "cell_type": "code",
      "execution_count": 25,
      "metadata": {
        "colab": {
          "base_uri": "https://localhost:8080/",
          "height": 73
        },
        "id": "1CgUFrFvBJfb",
        "outputId": "cdecce5b-234d-4824-8c8a-4b8419f51b97"
      },
      "outputs": [
        {
          "name": "stdout",
          "output_type": "stream",
          "text": [
            "Before function execution\n",
            "After function execution\n"
          ]
        },
        {
          "data": {
            "application/vnd.google.colaboratory.intrinsic+json": {
              "type": "string"
            },
            "text/plain": [
              "'Hello, Andy!'"
            ]
          },
          "execution_count": 25,
          "metadata": {},
          "output_type": "execute_result"
        }
      ],
      "source": [
        "@simple_decorator\n",
        "def greet(name):\n",
        "    return f\"Hello, {name}!\"\n",
        "\n",
        "greet(\"Andy\")"
      ]
    },
    {
      "cell_type": "code",
      "execution_count": 26,
      "metadata": {
        "colab": {
          "base_uri": "https://localhost:8080/",
          "height": 73
        },
        "id": "4YITh3RWBJm-",
        "outputId": "c9ca9964-7bf7-4731-f89d-1d522b459038"
      },
      "outputs": [
        {
          "name": "stdout",
          "output_type": "stream",
          "text": [
            "Before function execution\n",
            "After function execution\n"
          ]
        },
        {
          "data": {
            "application/vnd.google.colaboratory.intrinsic+json": {
              "type": "string"
            },
            "text/plain": [
              "'Hello, Andy Bek!'"
            ]
          },
          "execution_count": 26,
          "metadata": {},
          "output_type": "execute_result"
        }
      ],
      "source": [
        "@simple_decorator\n",
        "def greet(name, surname):\n",
        "    return f\"Hello, {name} {surname}!\"\n",
        "\n",
        "greet(\"Andy\", \"Bek\")"
      ]
    },
    {
      "cell_type": "code",
      "execution_count": 27,
      "metadata": {
        "colab": {
          "base_uri": "https://localhost:8080/",
          "height": 73
        },
        "id": "7-JLoSmvCVjV",
        "outputId": "4a561e78-5d70-4977-d62f-2a14744bf2eb"
      },
      "outputs": [
        {
          "name": "stdout",
          "output_type": "stream",
          "text": [
            "Before function execution\n",
            "After function execution\n"
          ]
        },
        {
          "data": {
            "application/vnd.google.colaboratory.intrinsic+json": {
              "type": "string"
            },
            "text/plain": [
              "'Hello!'"
            ]
          },
          "execution_count": 27,
          "metadata": {},
          "output_type": "execute_result"
        }
      ],
      "source": [
        "@simple_decorator\n",
        "def greet():\n",
        "    return f\"Hello!\"\n",
        "\n",
        "greet()"
      ]
    },
    {
      "cell_type": "markdown",
      "metadata": {
        "id": "pohxswXdCYTI"
      },
      "source": [
        "## Skill Challenge - Lotto Draws"
      ]
    },
    {
      "cell_type": "markdown",
      "metadata": {
        "id": "173XTDoiyRSu"
      },
      "source": [
        "> <font size=\"4\">define a decorator called 'repeat' that invokes a function of variable/unknown arity twice</font>\n",
        "\n",
        "> <font size=\"4\">then, define a function called 'lotto_draw' that takes a start and end number as arguments and returns an integer that is randomly drawn from that range (inclusively)</font>\n",
        "\n",
        "> <font size=\"4\">decorate 'lotto_draw' with 'repeat' to get 2 random numbers</font>\n",
        "\n",
        "\n",
        "> ```\n",
        "lotto_draw(1, 49)\n",
        "\n",
        "> ```\n",
        "Randomly drawn number: 1\n",
        "Randomly drawn number: 36\n"
      ]
    },
    {
      "cell_type": "markdown",
      "metadata": {
        "id": "h1DAbWq-y7qc"
      },
      "source": [
        "## Solution"
      ]
    },
    {
      "cell_type": "code",
      "execution_count": 1,
      "metadata": {
        "id": "XHkDYsjZz0W-"
      },
      "outputs": [],
      "source": [
        "def repeat(func):\n",
        "  def wrapper(*args, **kwargs):\n",
        "    func(*args, **kwargs)\n",
        "    func(*args, **kwargs)\n",
        "  return wrapper"
      ]
    },
    {
      "cell_type": "code",
      "execution_count": 3,
      "metadata": {
        "id": "3K-evXNu0FW9"
      },
      "outputs": [],
      "source": [
        "from random import randint"
      ]
    },
    {
      "cell_type": "code",
      "execution_count": 16,
      "metadata": {
        "id": "ts9TkzTt0JvT"
      },
      "outputs": [],
      "source": [
        "@repeat\n",
        "def lotto_draw(start, end):\n",
        "  number = randint(start, end)\n",
        "  print(f\"Randomly drawn number: {number}\")"
      ]
    },
    {
      "cell_type": "code",
      "execution_count": 20,
      "metadata": {
        "colab": {
          "base_uri": "https://localhost:8080/"
        },
        "id": "DwLJNDxA0RMe",
        "outputId": "1b373485-d60e-41d7-c691-a4b8395ab239"
      },
      "outputs": [
        {
          "name": "stdout",
          "output_type": "stream",
          "text": [
            "Randomly drawn number: 48\n",
            "Randomly drawn number: 8\n"
          ]
        }
      ],
      "source": [
        "lotto_draw(1, 49)"
      ]
    },
    {
      "cell_type": "markdown",
      "metadata": {
        "id": "oyYQgj8o0eyQ"
      },
      "source": [
        "## Skill Challenge - Writing A Timer"
      ]
    },
    {
      "cell_type": "markdown",
      "metadata": {
        "id": "C_vE_g4EKeMV"
      },
      "source": [
        "> <font size=\"4\">define a decorator called 'timed' that measures the amount of time a given function takes to run and prints that out in seconds</font>\n",
        "\n",
        "> <font size=\"4\">then, define a function that takes some number of seconds to run (e.g. a long loop) and decorate it with 'timed'</font>\n",
        "\n",
        "\n",
        "> ```\n",
        "loop_this_many_times(10**6) # decorated func\n",
        "\n",
        "> ```\n",
        "Function loop_this_many_times took 0.0286 seconds to execute.\n"
      ]
    },
    {
      "cell_type": "markdown",
      "metadata": {
        "id": "eCUvNv8QMM4d"
      },
      "source": [
        "## Solution"
      ]
    },
    {
      "cell_type": "code",
      "execution_count": 1,
      "metadata": {
        "id": "nrq_fFWIMkte"
      },
      "outputs": [],
      "source": [
        "import time\n",
        "\n",
        "# time() -> since epoch, jan 1, 1970\n",
        "# perf_counter()\n",
        "\n",
        "def timed(func):\n",
        "  def wrapper(*args, **kwargs):\n",
        "    start_time = time.perf_counter()\n",
        "    result = func(*args, **kwargs)\n",
        "    end_time = time.perf_counter()\n",
        "\n",
        "    print(f\"Function {func.__name__} took {round(end_time - start_time, 4)} seconds to execute.\")\n",
        "    return result\n",
        "  return wrapper"
      ]
    },
    {
      "cell_type": "code",
      "execution_count": 2,
      "metadata": {
        "id": "qgim6ZIWNprd"
      },
      "outputs": [],
      "source": [
        "@timed\n",
        "def loop_this_many_times(n=10**6):\n",
        "  for i in range(n):\n",
        "    pass"
      ]
    },
    {
      "cell_type": "code",
      "execution_count": 3,
      "metadata": {
        "colab": {
          "base_uri": "https://localhost:8080/"
        },
        "id": "t05R5_qWN2Q_",
        "outputId": "9a7f75d7-e491-446f-e3d6-a476eaba3c4a"
      },
      "outputs": [
        {
          "name": "stdout",
          "output_type": "stream",
          "text": [
            "Function loop_this_many_times took 0.0273 seconds to execute.\n"
          ]
        }
      ],
      "source": [
        "loop_this_many_times()"
      ]
    },
    {
      "cell_type": "code",
      "execution_count": 4,
      "metadata": {
        "colab": {
          "base_uri": "https://localhost:8080/"
        },
        "id": "ORjcOZ21N4cu",
        "outputId": "cd9437cd-2f72-4ac4-a74a-0eb0c26a3a3a"
      },
      "outputs": [
        {
          "name": "stdout",
          "output_type": "stream",
          "text": [
            "Function loop_this_many_times took 0.5855 seconds to execute.\n"
          ]
        }
      ],
      "source": [
        "loop_this_many_times(10**7)"
      ]
    },
    {
      "cell_type": "code",
      "execution_count": 5,
      "metadata": {
        "colab": {
          "base_uri": "https://localhost:8080/"
        },
        "id": "VELfr67dN6k9",
        "outputId": "21b6a0ab-475c-4596-9776-ba30465ebd68"
      },
      "outputs": [
        {
          "name": "stdout",
          "output_type": "stream",
          "text": [
            "Function loop_this_many_times took 2.2025 seconds to execute.\n"
          ]
        }
      ],
      "source": [
        "loop_this_many_times(10**8)"
      ]
    },
    {
      "cell_type": "markdown",
      "metadata": {
        "id": "kkLBEiyjN8Ft"
      },
      "source": [
        "## Decorators With Arguments"
      ]
    },
    {
      "cell_type": "code",
      "execution_count": 6,
      "metadata": {
        "id": "qrOTwDuiPbgR"
      },
      "outputs": [],
      "source": [
        "def calories_burned(duration_in_minutes, calories_burned_per_minute):\n",
        "    return duration_in_minutes * calories_burned_per_minute"
      ]
    },
    {
      "cell_type": "code",
      "execution_count": 7,
      "metadata": {
        "colab": {
          "base_uri": "https://localhost:8080/"
        },
        "id": "Kx6iYIsBPd-t",
        "outputId": "2d21e4a7-f49c-47c0-d9dc-0cd00e078754"
      },
      "outputs": [
        {
          "data": {
            "text/plain": [
              "300"
            ]
          },
          "execution_count": 7,
          "metadata": {},
          "output_type": "execute_result"
        }
      ],
      "source": [
        "calories_burned(30, 10)"
      ]
    },
    {
      "cell_type": "code",
      "execution_count": 8,
      "metadata": {
        "id": "7f5yBkwzPwSA"
      },
      "outputs": [],
      "source": [
        "def ensure_healthy_workout(func):\n",
        "  def wrapper(*args, **kwargs):\n",
        "    result = func(*args, **kwargs)\n",
        "    if result < 500:\n",
        "      print(\"This workout was not intense enough!\")\n",
        "    else:\n",
        "      print(f\"Well done! Target exceeded by {result - 500} calories!\")\n",
        "  return wrapper"
      ]
    },
    {
      "cell_type": "code",
      "execution_count": 9,
      "metadata": {
        "id": "t0zqpWGMQOoG"
      },
      "outputs": [],
      "source": [
        "@ensure_healthy_workout\n",
        "def calories_burned(duration_in_minutes, calories_burned_per_minute):\n",
        "    return duration_in_minutes * calories_burned_per_minute"
      ]
    },
    {
      "cell_type": "code",
      "execution_count": 10,
      "metadata": {
        "colab": {
          "base_uri": "https://localhost:8080/"
        },
        "id": "eJomipGhQRL6",
        "outputId": "f6fa707e-64f6-4f8a-e330-fbb8d7f5bfb3"
      },
      "outputs": [
        {
          "name": "stdout",
          "output_type": "stream",
          "text": [
            "This workout was not intense enough!\n"
          ]
        }
      ],
      "source": [
        "calories_burned(30, 10)"
      ]
    },
    {
      "cell_type": "code",
      "execution_count": 11,
      "metadata": {
        "colab": {
          "base_uri": "https://localhost:8080/"
        },
        "id": "qDutkAAAQSj0",
        "outputId": "e279fece-35d0-4cf3-be3f-8a9a3cd8fc64"
      },
      "outputs": [
        {
          "name": "stdout",
          "output_type": "stream",
          "text": [
            "Well done! Target exceeded by 100 calories!\n"
          ]
        }
      ],
      "source": [
        "calories_burned(60, 10)"
      ]
    },
    {
      "cell_type": "code",
      "execution_count": 16,
      "metadata": {
        "id": "wiD8GrSFQ-hk"
      },
      "outputs": [],
      "source": [
        "def ensure_healthy_workout(calorie_target):\n",
        "  def actual_decorator(func):\n",
        "    def wrapper(*args, **kwargs):\n",
        "      result = func(*args, **kwargs)\n",
        "      if result < calorie_target:\n",
        "        print(\"This workout was not intense enough!\")\n",
        "      else:\n",
        "        print(f\"Well done! Target exceeded by {result - calorie_target} calories!\")\n",
        "    return wrapper\n",
        "  return actual_decorator"
      ]
    },
    {
      "cell_type": "code",
      "execution_count": 21,
      "metadata": {
        "id": "ZFTsUPSoQVyk"
      },
      "outputs": [],
      "source": [
        "@ensure_healthy_workout(calorie_target=500)\n",
        "def calories_burned(duration_in_minutes, calories_burned_per_minute):\n",
        "    return duration_in_minutes * calories_burned_per_minute"
      ]
    },
    {
      "cell_type": "code",
      "execution_count": 22,
      "metadata": {
        "colab": {
          "base_uri": "https://localhost:8080/"
        },
        "id": "TLcXR-AMQs9v",
        "outputId": "58159853-5bf1-462f-ed34-2c9a8aef3d72"
      },
      "outputs": [
        {
          "name": "stdout",
          "output_type": "stream",
          "text": [
            "Well done! Target exceeded by 100 calories!\n"
          ]
        }
      ],
      "source": [
        "calories_burned(30, 20)"
      ]
    },
    {
      "cell_type": "markdown",
      "metadata": {
        "id": "tUZQr22cR6EV"
      },
      "source": [
        "## Skill Challenge - Repeated Lotto Draws"
      ]
    },
    {
      "cell_type": "markdown",
      "metadata": {
        "id": "fHvg6lCCRVGt"
      },
      "source": [
        "> <font size=\"4\">in an earlier challenge, we defined a 'repeat' decorator that invoked a given function twice. It's time to generalize that implementation so that it invokes a given function any number of times, instead of just twice</font>\n",
        "\n",
        "> <font size=\"4\">the 'repeat' decorator should work with any function that returns numeric values</font>\n",
        "\n",
        "> <font size=\"4\">it should accept an argument that specifies the number of time the decorated function is invoked, and return a list of the numbers returned in sorted order</font>\n",
        "\n",
        "> <font size=\"4\">apply the new 'repeat' decorator to the lotto_draw function to obtain 7 randomly generated integers</font>\n",
        "\n",
        "\n",
        "> ```\n",
        "@repeat(num_times=7)\n",
        "def lotto_draw(start, end):\n",
        "    return random.randint(start, end)\n",
        "\n",
        "\n",
        "> ```\n",
        "lotto_draw(1, 49)\n",
        "[1, 15, 19, 19, 31, 40, 44]\n"
      ]
    },
    {
      "cell_type": "markdown",
      "metadata": {
        "id": "Num011YLUHn9"
      },
      "source": [
        "## Solution"
      ]
    },
    {
      "cell_type": "code",
      "execution_count": 23,
      "metadata": {
        "id": "zbcErulWVFws"
      },
      "outputs": [],
      "source": [
        "def repeat(num_times):\n",
        "  def decorator(func):\n",
        "    def inner(*args, **kwargs):\n",
        "      result = []\n",
        "      for _ in range(num_times):\n",
        "        number = func(*args, **kwargs)\n",
        "        result.append(number)\n",
        "      return sorted(result)\n",
        "    return inner\n",
        "  return decorator"
      ]
    },
    {
      "cell_type": "code",
      "execution_count": 32,
      "metadata": {
        "id": "B_OUYbQnVEwo"
      },
      "outputs": [],
      "source": [
        "import random\n",
        "\n",
        "@repeat(num_times=7)\n",
        "def lotto_draw(start, end):\n",
        "  return random.randint(start, end)"
      ]
    },
    {
      "cell_type": "code",
      "execution_count": 33,
      "metadata": {
        "colab": {
          "base_uri": "https://localhost:8080/"
        },
        "id": "O4_HX8B4VhNc",
        "outputId": "929bd0cc-2c02-465e-b5cd-421932b6ec34"
      },
      "outputs": [
        {
          "data": {
            "text/plain": [
              "[5, 18, 19, 28, 31, 34, 47]"
            ]
          },
          "execution_count": 33,
          "metadata": {},
          "output_type": "execute_result"
        }
      ],
      "source": [
        "lotto_draw(1, 49)"
      ]
    },
    {
      "cell_type": "markdown",
      "metadata": {
        "id": "PKU7LzdRVh8i"
      },
      "source": [
        "## Chaining Multiple Decorators"
      ]
    },
    {
      "cell_type": "code",
      "execution_count": 41,
      "metadata": {
        "id": "e03n7rh2WUI5"
      },
      "outputs": [],
      "source": [
        "# available decorators\n",
        "\n",
        "def uppercase(func):\n",
        "    def wrapper():\n",
        "        result = func()\n",
        "        return result.upper()\n",
        "    return wrapper\n",
        "\n",
        "def split(func):\n",
        "    def wrapper():\n",
        "        result = func()\n",
        "        return result.split()\n",
        "    return wrapper"
      ]
    },
    {
      "cell_type": "code",
      "execution_count": 50,
      "metadata": {
        "id": "QKuCstL6WD9N"
      },
      "outputs": [],
      "source": [
        "# target function\n",
        "\n",
        "@split\n",
        "@uppercase\n",
        "def passphrase():\n",
        "    return \"Horizontal Omit Station Reflection\""
      ]
    },
    {
      "cell_type": "code",
      "execution_count": 51,
      "metadata": {
        "colab": {
          "base_uri": "https://localhost:8080/"
        },
        "id": "kObekejKXXha",
        "outputId": "5f15df6a-36c4-43e2-9d91-8924ae813409"
      },
      "outputs": [
        {
          "data": {
            "text/plain": [
              "['HORIZONTAL', 'OMIT', 'STATION', 'REFLECTION']"
            ]
          },
          "execution_count": 51,
          "metadata": {},
          "output_type": "execute_result"
        }
      ],
      "source": [
        "passphrase()"
      ]
    },
    {
      "cell_type": "code",
      "execution_count": 53,
      "metadata": {
        "id": "H6IdE3laZFoX"
      },
      "outputs": [],
      "source": [
        "@uppercase\n",
        "@split\n",
        "def passphrase():\n",
        "    return \"Horizontal Omit Station Reflection\""
      ]
    },
    {
      "cell_type": "code",
      "execution_count": 54,
      "metadata": {
        "colab": {
          "base_uri": "https://localhost:8080/",
          "height": 299
        },
        "id": "DpoIJKeTacYu",
        "outputId": "1aa850c8-e3dc-4271-fa81-7515c7efc776"
      },
      "outputs": [
        {
          "ename": "AttributeError",
          "evalue": "ignored",
          "output_type": "error",
          "traceback": [
            "\u001b[0;31m---------------------------------------------------------------------------\u001b[0m",
            "\u001b[0;31mAttributeError\u001b[0m                            Traceback (most recent call last)",
            "\u001b[0;32m<ipython-input-54-50a7c7d1a977>\u001b[0m in \u001b[0;36m<cell line: 1>\u001b[0;34m()\u001b[0m\n\u001b[0;32m----> 1\u001b[0;31m \u001b[0mpassphrase\u001b[0m\u001b[0;34m(\u001b[0m\u001b[0;34m)\u001b[0m\u001b[0;34m\u001b[0m\u001b[0;34m\u001b[0m\u001b[0m\n\u001b[0m",
            "\u001b[0;32m<ipython-input-41-107ea022472d>\u001b[0m in \u001b[0;36mwrapper\u001b[0;34m()\u001b[0m\n\u001b[1;32m      4\u001b[0m     \u001b[0;32mdef\u001b[0m \u001b[0mwrapper\u001b[0m\u001b[0;34m(\u001b[0m\u001b[0;34m)\u001b[0m\u001b[0;34m:\u001b[0m\u001b[0;34m\u001b[0m\u001b[0;34m\u001b[0m\u001b[0m\n\u001b[1;32m      5\u001b[0m         \u001b[0mresult\u001b[0m \u001b[0;34m=\u001b[0m \u001b[0mfunc\u001b[0m\u001b[0;34m(\u001b[0m\u001b[0;34m)\u001b[0m\u001b[0;34m\u001b[0m\u001b[0;34m\u001b[0m\u001b[0m\n\u001b[0;32m----> 6\u001b[0;31m         \u001b[0;32mreturn\u001b[0m \u001b[0mresult\u001b[0m\u001b[0;34m.\u001b[0m\u001b[0mupper\u001b[0m\u001b[0;34m(\u001b[0m\u001b[0;34m)\u001b[0m\u001b[0;34m\u001b[0m\u001b[0;34m\u001b[0m\u001b[0m\n\u001b[0m\u001b[1;32m      7\u001b[0m     \u001b[0;32mreturn\u001b[0m \u001b[0mwrapper\u001b[0m\u001b[0;34m\u001b[0m\u001b[0;34m\u001b[0m\u001b[0m\n\u001b[1;32m      8\u001b[0m \u001b[0;34m\u001b[0m\u001b[0m\n",
            "\u001b[0;31mAttributeError\u001b[0m: 'list' object has no attribute 'upper'"
          ]
        }
      ],
      "source": [
        "passphrase()"
      ]
    },
    {
      "cell_type": "code",
      "execution_count": 56,
      "metadata": {
        "colab": {
          "base_uri": "https://localhost:8080/",
          "height": 171
        },
        "id": "GoIwKrlXadPX",
        "outputId": "34470d90-7d9b-4e55-900c-1cc0e23e87ec"
      },
      "outputs": [
        {
          "ename": "AttributeError",
          "evalue": "ignored",
          "output_type": "error",
          "traceback": [
            "\u001b[0;31m---------------------------------------------------------------------------\u001b[0m",
            "\u001b[0;31mAttributeError\u001b[0m                            Traceback (most recent call last)",
            "\u001b[0;32m<ipython-input-56-73a25c06e629>\u001b[0m in \u001b[0;36m<cell line: 1>\u001b[0;34m()\u001b[0m\n\u001b[0;32m----> 1\u001b[0;31m \u001b[0;34m\"Horizontal Omit Station Reflection\"\u001b[0m\u001b[0;34m.\u001b[0m\u001b[0msplit\u001b[0m\u001b[0;34m(\u001b[0m\u001b[0;34m)\u001b[0m\u001b[0;34m.\u001b[0m\u001b[0mupper\u001b[0m\u001b[0;34m(\u001b[0m\u001b[0;34m)\u001b[0m\u001b[0;34m\u001b[0m\u001b[0;34m\u001b[0m\u001b[0m\n\u001b[0m",
            "\u001b[0;31mAttributeError\u001b[0m: 'list' object has no attribute 'upper'"
          ]
        }
      ],
      "source": [
        "\"Horizontal Omit Station Reflection\".split().upper()"
      ]
    },
    {
      "cell_type": "markdown",
      "metadata": {
        "id": "IhqSx8sfag74"
      },
      "source": [
        "## Preserving Identify With @wraps"
      ]
    },
    {
      "cell_type": "code",
      "execution_count": 58,
      "metadata": {
        "id": "u3FnyuRxbd0B"
      },
      "outputs": [],
      "source": [
        "def split(func):\n",
        "    def wrapper():\n",
        "        result = func()\n",
        "        return result.split()\n",
        "    return wrapper"
      ]
    },
    {
      "cell_type": "code",
      "execution_count": null,
      "metadata": {
        "id": "TjuGefcTbfWz"
      },
      "outputs": [],
      "source": []
    },
    {
      "cell_type": "code",
      "execution_count": 57,
      "metadata": {
        "id": "77H9NvAXbF0X"
      },
      "outputs": [],
      "source": [
        "def passphrase():\n",
        "    \"\"\"Returns a string.\"\"\"\n",
        "    print(\"Horizontal Omit Station Reflection\")"
      ]
    },
    {
      "cell_type": "code",
      "execution_count": 59,
      "metadata": {
        "colab": {
          "base_uri": "https://localhost:8080/"
        },
        "id": "cnjR-GmrbPkq",
        "outputId": "c8a2d56d-8dde-4910-8ccf-1dfe4c2a1a86"
      },
      "outputs": [
        {
          "data": {
            "text/plain": [
              "<function __main__.passphrase()>"
            ]
          },
          "execution_count": 59,
          "metadata": {},
          "output_type": "execute_result"
        }
      ],
      "source": [
        "passphrase"
      ]
    },
    {
      "cell_type": "code",
      "execution_count": 60,
      "metadata": {
        "colab": {
          "base_uri": "https://localhost:8080/",
          "height": 36
        },
        "id": "Ppm1wJjCc7m6",
        "outputId": "bed81564-0026-4eb1-dcbc-fedca7cc79eb"
      },
      "outputs": [
        {
          "data": {
            "application/vnd.google.colaboratory.intrinsic+json": {
              "type": "string"
            },
            "text/plain": [
              "'passphrase'"
            ]
          },
          "execution_count": 60,
          "metadata": {},
          "output_type": "execute_result"
        }
      ],
      "source": [
        "passphrase.__name__"
      ]
    },
    {
      "cell_type": "code",
      "execution_count": 61,
      "metadata": {
        "colab": {
          "base_uri": "https://localhost:8080/",
          "height": 36
        },
        "id": "xc0Fk0YqdD8s",
        "outputId": "39d856c5-3e43-403b-af02-289eded693f5"
      },
      "outputs": [
        {
          "data": {
            "application/vnd.google.colaboratory.intrinsic+json": {
              "type": "string"
            },
            "text/plain": [
              "'Returns a string.'"
            ]
          },
          "execution_count": 61,
          "metadata": {},
          "output_type": "execute_result"
        }
      ],
      "source": [
        "passphrase.__doc__"
      ]
    },
    {
      "cell_type": "code",
      "execution_count": 64,
      "metadata": {
        "id": "ZAF-V1kudGbp"
      },
      "outputs": [],
      "source": [
        "@split\n",
        "def passphrase():\n",
        "    \"\"\"Returns a string.\"\"\"\n",
        "    return \"Horizontal Omit Station Reflection\""
      ]
    },
    {
      "cell_type": "code",
      "execution_count": 65,
      "metadata": {
        "colab": {
          "base_uri": "https://localhost:8080/"
        },
        "id": "VXj4mBFidQQ_",
        "outputId": "301ee2aa-f08d-40d6-8af6-4de28d992601"
      },
      "outputs": [
        {
          "data": {
            "text/plain": [
              "['Horizontal', 'Omit', 'Station', 'Reflection']"
            ]
          },
          "execution_count": 65,
          "metadata": {},
          "output_type": "execute_result"
        }
      ],
      "source": [
        "passphrase()"
      ]
    },
    {
      "cell_type": "code",
      "execution_count": 67,
      "metadata": {
        "colab": {
          "base_uri": "https://localhost:8080/",
          "height": 36
        },
        "id": "5wWOpIY7dRW2",
        "outputId": "24f3218d-e4b7-4f11-9839-5f7b269dae73"
      },
      "outputs": [
        {
          "data": {
            "application/vnd.google.colaboratory.intrinsic+json": {
              "type": "string"
            },
            "text/plain": [
              "'wrapper'"
            ]
          },
          "execution_count": 67,
          "metadata": {},
          "output_type": "execute_result"
        }
      ],
      "source": [
        "passphrase.__name__"
      ]
    },
    {
      "cell_type": "code",
      "execution_count": 68,
      "metadata": {
        "id": "HAn7e8S7daEm"
      },
      "outputs": [],
      "source": [
        "passphrase.__doc__"
      ]
    },
    {
      "cell_type": "code",
      "execution_count": 69,
      "metadata": {
        "id": "Ke1gSw9DdcS3"
      },
      "outputs": [],
      "source": [
        "# functools -> wraps\n",
        "\n",
        "# __wrapped__ ->"
      ]
    },
    {
      "cell_type": "code",
      "execution_count": 70,
      "metadata": {
        "id": "tJ71CoiEd1j7"
      },
      "outputs": [],
      "source": [
        "from functools import wraps\n",
        "\n",
        "def split(func):\n",
        "    @wraps(func)\n",
        "    def wrapper():\n",
        "        result = func()\n",
        "        return result.split()\n",
        "    return wrapper"
      ]
    },
    {
      "cell_type": "code",
      "execution_count": 71,
      "metadata": {
        "id": "bPcXWK9OeAZ6"
      },
      "outputs": [],
      "source": [
        "@split\n",
        "def passphrase():\n",
        "    \"\"\"Returns a string.\"\"\"\n",
        "    return \"Horizontal Omit Station Reflection\""
      ]
    },
    {
      "cell_type": "code",
      "execution_count": 72,
      "metadata": {
        "colab": {
          "base_uri": "https://localhost:8080/"
        },
        "id": "wXRMR3d3eCXf",
        "outputId": "d8c5ab9c-a5c2-4f8a-9b45-522d2a280296"
      },
      "outputs": [
        {
          "data": {
            "text/plain": [
              "['Horizontal', 'Omit', 'Station', 'Reflection']"
            ]
          },
          "execution_count": 72,
          "metadata": {},
          "output_type": "execute_result"
        }
      ],
      "source": [
        "passphrase()"
      ]
    },
    {
      "cell_type": "code",
      "execution_count": 73,
      "metadata": {
        "colab": {
          "base_uri": "https://localhost:8080/",
          "height": 36
        },
        "id": "p0UTOiy8eEAt",
        "outputId": "268f4c94-bd2c-4a83-8b05-0c9f9cc7098f"
      },
      "outputs": [
        {
          "data": {
            "application/vnd.google.colaboratory.intrinsic+json": {
              "type": "string"
            },
            "text/plain": [
              "'passphrase'"
            ]
          },
          "execution_count": 73,
          "metadata": {},
          "output_type": "execute_result"
        }
      ],
      "source": [
        "passphrase.__name__"
      ]
    },
    {
      "cell_type": "code",
      "execution_count": 74,
      "metadata": {
        "colab": {
          "base_uri": "https://localhost:8080/",
          "height": 36
        },
        "id": "NRUotxIgeF6M",
        "outputId": "bb40872d-5142-4deb-9275-21276d0525e2"
      },
      "outputs": [
        {
          "data": {
            "application/vnd.google.colaboratory.intrinsic+json": {
              "type": "string"
            },
            "text/plain": [
              "'Returns a string.'"
            ]
          },
          "execution_count": 74,
          "metadata": {},
          "output_type": "execute_result"
        }
      ],
      "source": [
        "passphrase.__doc__"
      ]
    },
    {
      "cell_type": "code",
      "execution_count": 75,
      "metadata": {
        "colab": {
          "base_uri": "https://localhost:8080/"
        },
        "id": "XwzpHLUQeG5K",
        "outputId": "468f39e5-691d-4a1c-a397-2a4d94ca72a6"
      },
      "outputs": [
        {
          "data": {
            "text/plain": [
              "True"
            ]
          },
          "execution_count": 75,
          "metadata": {},
          "output_type": "execute_result"
        }
      ],
      "source": [
        "passphrase.__wrapped__.__name__ is passphrase.__name__"
      ]
    },
    {
      "cell_type": "code",
      "execution_count": 76,
      "metadata": {
        "id": "9f1IvCjCeaI6"
      },
      "outputs": [],
      "source": [
        "# __name__, __doc__, __module__, __annotations__... (assignments)\n",
        "# __dict__ (wrapper updates)"
      ]
    },
    {
      "cell_type": "markdown",
      "metadata": {
        "id": "mWG_rFonevPt"
      },
      "source": [
        "## Skill Challenge: Delaying Downloads"
      ]
    },
    {
      "cell_type": "markdown",
      "metadata": {
        "id": "nu1C-wSUfN4k"
      },
      "source": [
        "> <font size=\"4\">write a placeholder function called 'download(user_id, resource)' that simulates the generation of a download link. For our purposes that could simply be a uuid() or a random alphanumeric string</font>\n",
        "\n",
        "> <font size=\"4\">then define a decorator that progressively slows down the downsloads for a given user by doubling the time it takes for the download link to be generated, e.g. the first invocation happens instantly, the second one takes 1 second, the third 2 second, the fourth 4 seconds, and so on. </font>\n",
        "\n",
        "> <font size=\"4\">note that the delay should be user-specific, but not resource specific</font>\n",
        "\n",
        "\n",
        "> ```\n",
        "download(3, \"Python\") # first invocation for UserId 3\n",
        "\n",
        "\n",
        "> ```\n",
        "Your resource is ready at: andybek.com/a0accf2c-9e65-44db-be5e-d4e64b9bee6e\n",
        "\n",
        "\n",
        "> ```\n",
        "download(3, \"Python\") # second invocation for UserId 3\n",
        "\n",
        "\n",
        "> ```\n",
        "Your download will start in 1s\n",
        "Your resource is ready at: andybek.com/fbcab9a3-b90b-4dd1-9882-d33b766ac273\n",
        "\n",
        "\n",
        "> ```\n",
        "download(3, \"Python\") # third invocation for UserId 3\n",
        "\n",
        "> ```\n",
        "Your download will start in 2s\n",
        "Your resource is ready at: andybek.com/cb8e6534-3128-4ce9-966e-9f8037a4cc66\n",
        "\n",
        "> ```\n",
        "download(4, \"Python\") # first invocation for UserId 4\n",
        "\n",
        "> ```\n",
        "Your resource is ready at: andybek.com/f8de5e18-b01c-4650-acda-27eff61a3b5a\n",
        "\n"
      ]
    },
    {
      "cell_type": "markdown",
      "metadata": {
        "id": "PgVP6iFFgsKs"
      },
      "source": [
        "## Solution"
      ]
    },
    {
      "cell_type": "code",
      "execution_count": 80,
      "metadata": {
        "id": "QjYbHe-nhlaK"
      },
      "outputs": [],
      "source": [
        "from uuid import uuid4\n",
        "\n",
        "def download(user_id, resource):\n",
        "  download_uuid = uuid4()\n",
        "  download_url = f\"andybek.com/{download_uuid}\"\n",
        "\n",
        "  return f\"Your resource is ready at: {download_url}\""
      ]
    },
    {
      "cell_type": "code",
      "execution_count": 94,
      "metadata": {
        "colab": {
          "base_uri": "https://localhost:8080/",
          "height": 36
        },
        "id": "5HB_QJaUhvIK",
        "outputId": "78d94a37-a425-4b0e-8df3-12ef1eed7289"
      },
      "outputs": [
        {
          "data": {
            "application/vnd.google.colaboratory.intrinsic+json": {
              "type": "string"
            },
            "text/plain": [
              "'Your resource is ready at: andybek.com/3e148ea7-28c8-4d12-ba1a-d2e92579daec'"
            ]
          },
          "execution_count": 94,
          "metadata": {},
          "output_type": "execute_result"
        }
      ],
      "source": [
        "download(3, \"python\")"
      ]
    },
    {
      "cell_type": "code",
      "execution_count": 99,
      "metadata": {
        "id": "6rKQaOhHhwam"
      },
      "outputs": [],
      "source": [
        "import time\n",
        "\n",
        "user_delay = {}\n",
        "\n",
        "def delay_decorator(func):\n",
        "  def wrapper(*args, **kwargs):\n",
        "    delay = user_delay.get(kwargs.get(\"user_id\"), 0)\n",
        "    user_delay[kwargs.get(\"user_id\")] = max(1, delay * 2)\n",
        "\n",
        "    if delay > 0:\n",
        "      print(f\"Your download will start in {delay}s\")\n",
        "\n",
        "    time.sleep(delay)\n",
        "    return func(*args, **kwargs)\n",
        "\n",
        "  return wrapper"
      ]
    },
    {
      "cell_type": "code",
      "execution_count": 100,
      "metadata": {
        "id": "aTysg4adi3Rl"
      },
      "outputs": [],
      "source": [
        "@delay_decorator\n",
        "def download(user_id, resource):\n",
        "  download_uuid = uuid4()\n",
        "  download_url = f\"andybek.com/{download_uuid}\"\n",
        "\n",
        "  return f\"Your resource is ready at: {download_url}\""
      ]
    },
    {
      "cell_type": "code",
      "execution_count": 105,
      "metadata": {
        "colab": {
          "base_uri": "https://localhost:8080/",
          "height": 54
        },
        "id": "hPgFT4ELi5gO",
        "outputId": "bdffe8ef-1bb7-40e0-87b5-4bf26e01344f"
      },
      "outputs": [
        {
          "name": "stdout",
          "output_type": "stream",
          "text": [
            "Your download will start in 8s\n"
          ]
        },
        {
          "data": {
            "application/vnd.google.colaboratory.intrinsic+json": {
              "type": "string"
            },
            "text/plain": [
              "'Your resource is ready at: andybek.com/91c451ab-7e9b-44d8-8c9a-d3f256e2cd87'"
            ]
          },
          "execution_count": 105,
          "metadata": {},
          "output_type": "execute_result"
        }
      ],
      "source": [
        "download(2, \"python\")"
      ]
    },
    {
      "cell_type": "markdown",
      "metadata": {
        "id": "fDi2Q4M-i6zr"
      },
      "source": [
        "## Skill Challenge: Authentication Workflow Part I"
      ]
    },
    {
      "cell_type": "markdown",
      "metadata": {
        "id": "XSnw1mUSj0gs"
      },
      "source": [
        "<h2>Mock an interface</h2>\n",
        "\n",
        "> <font size=\"4\">write a basic function that exposes a menu with 3 options:\n",
        "\n",
        "\n",
        "- a. View Roster\n",
        "- b. Upvote\n",
        "- c. Add to Roster\n",
        "- d. Quit\n",
        "\n",
        "</font>\n",
        "\n",
        "> <font size=\"4\">...each of these options invokes their own respective functions, with the exception of 'Quit' which simply exits the menu.\n",
        "\n",
        "1.   'View Roster' prints a list of names and votes, in descending order by votes. For simplicity, this information is stored locally as a python list of dicts.\n",
        "2.   'Upvote' adds 1 vote to the specified user\n",
        "3.   'Add to Roster' allows the user to add a new name to that list\n",
        "</font>\n",
        "\n",
        "> ```\n",
        " Choose an option:\n",
        "        a. View roster\n",
        "        b. Upvote\n",
        "        c. Add to roster\n",
        "        d. Quit\n",
        "\n",
        "\n",
        "> ```\n",
        "Enter option: a\n",
        "\n",
        "\n",
        "> ```\n",
        "Bob: 3 votes\n",
        "Alice: 1 votes\n"
      ]
    },
    {
      "cell_type": "markdown",
      "metadata": {
        "id": "fgnF2tZz5pAJ"
      },
      "source": [
        "## Solution Part I"
      ]
    },
    {
      "cell_type": "code",
      "execution_count": 22,
      "metadata": {
        "id": "mDUGCUtxG09g"
      },
      "outputs": [],
      "source": [
        "# application state ###\n",
        "ROSTER = [\n",
        "    { \"name\": \"Alice\", \"votes\": 12},\n",
        "    { \"name\": \"Tyler\", \"votes\": 9},\n",
        "    { \"name\": \"Andrew\", \"votes\": 10}\n",
        "]\n",
        "#######################\n",
        "\n",
        "def menu():\n",
        "  while True:\n",
        "    print(\"\"\"\n",
        "    a. View Roster\n",
        "    b. Upvote\n",
        "    c. Add to Roster\n",
        "    d. Quit\n",
        "    \"\"\")\n",
        "\n",
        "    option = input(\"Enter option: \").lower()\n",
        "\n",
        "    if option == \"a\":\n",
        "      view_roster()\n",
        "    elif option == \"b\":\n",
        "      upvote()\n",
        "    elif option == \"c\":\n",
        "      add_to_roster()\n",
        "    else:\n",
        "      break\n",
        "\n",
        "def view_roster():\n",
        "  sorted_roster = sorted(ROSTER, key=lambda p: p[\"votes\"], reverse=True)\n",
        "\n",
        "  for p in sorted_roster:\n",
        "    print(f\"{p['name']}: {p['votes']}\")\n",
        "\n",
        "\n",
        "def upvote():\n",
        "  name = input(\"Enter the name of the person to upvote: \").lower()\n",
        "\n",
        "  for p in ROSTER:\n",
        "    if p[\"name\"].lower() == name:\n",
        "      p[\"votes\"] += 1\n",
        "      print(f\"Upvoted {p['name']}!\")\n",
        "      return\n",
        "\n",
        "  print(\"Name was not found!\")\n",
        "\n",
        "\n",
        "def add_to_roster():\n",
        "  name = input(\"Enter the name of the person to add: \")\n",
        "  ROSTER.append({\"name\": name, \"votes\": 0})\n",
        "  print(f\"Added {name} to the roster!\")"
      ]
    },
    {
      "cell_type": "code",
      "execution_count": 21,
      "metadata": {
        "colab": {
          "base_uri": "https://localhost:8080/"
        },
        "id": "5gyZkBcBG0xD",
        "outputId": "18660065-d633-413d-cb5b-7a8d586e2bb8"
      },
      "outputs": [
        {
          "name": "stdout",
          "output_type": "stream",
          "text": [
            "\n",
            "    a. View Roster\n",
            "    b. Upvote\n",
            "    c. Add to Roster\n",
            "    d. Quit\n",
            "    \n",
            "Enter option: a\n",
            "Alice: 12\n",
            "Andrew: 10\n",
            "Tyler: 9\n",
            "\n",
            "    a. View Roster\n",
            "    b. Upvote\n",
            "    c. Add to Roster\n",
            "    d. Quit\n",
            "    \n",
            "Enter option: b\n",
            "Enter the name of the person to upvote: tyler\n",
            "Upvoted Tyler!\n",
            "\n",
            "    a. View Roster\n",
            "    b. Upvote\n",
            "    c. Add to Roster\n",
            "    d. Quit\n",
            "    \n",
            "Enter option: a\n",
            "Alice: 12\n",
            "Tyler: 10\n",
            "Andrew: 10\n",
            "\n",
            "    a. View Roster\n",
            "    b. Upvote\n",
            "    c. Add to Roster\n",
            "    d. Quit\n",
            "    \n",
            "Enter option: c\n",
            "Enter the name of the person to add: tanya\n",
            "Added tanya to the roster!\n",
            "\n",
            "    a. View Roster\n",
            "    b. Upvote\n",
            "    c. Add to Roster\n",
            "    d. Quit\n",
            "    \n",
            "Enter option: a\n",
            "Alice: 12\n",
            "Tyler: 10\n",
            "Andrew: 10\n",
            "tanya: 0\n",
            "\n",
            "    a. View Roster\n",
            "    b. Upvote\n",
            "    c. Add to Roster\n",
            "    d. Quit\n",
            "    \n",
            "Enter option: d\n"
          ]
        }
      ],
      "source": [
        "menu()"
      ]
    },
    {
      "cell_type": "code",
      "execution_count": null,
      "metadata": {
        "id": "pVigJTnCG0lH"
      },
      "outputs": [],
      "source": []
    },
    {
      "cell_type": "code",
      "execution_count": null,
      "metadata": {
        "id": "6pWJN9DFG0YP"
      },
      "outputs": [],
      "source": []
    },
    {
      "cell_type": "code",
      "execution_count": null,
      "metadata": {
        "id": "tP4ty_w-G0Lk"
      },
      "outputs": [],
      "source": []
    },
    {
      "cell_type": "code",
      "execution_count": null,
      "metadata": {
        "id": "H7_6HA58Gz_Z"
      },
      "outputs": [],
      "source": []
    },
    {
      "cell_type": "code",
      "execution_count": null,
      "metadata": {
        "id": "L8xaejooGzz5"
      },
      "outputs": [],
      "source": []
    },
    {
      "cell_type": "code",
      "execution_count": null,
      "metadata": {
        "id": "_aFNfN5NGznf"
      },
      "outputs": [],
      "source": []
    },
    {
      "cell_type": "code",
      "execution_count": null,
      "metadata": {
        "id": "xxaiWEKyGzUv"
      },
      "outputs": [],
      "source": []
    },
    {
      "cell_type": "code",
      "execution_count": 6,
      "metadata": {
        "id": "ueFMRLKH9dZY"
      },
      "outputs": [],
      "source": []
    },
    {
      "cell_type": "markdown",
      "metadata": {
        "id": "SbJxkUPKA5Fj"
      },
      "source": [
        "## Skill Challenge: Authentication Workflow Part II"
      ]
    },
    {
      "cell_type": "markdown",
      "metadata": {
        "id": "EQwC2iwn_7kt"
      },
      "source": [
        "\n",
        "\n",
        "> <font size=\"4\">write a decorator called 'authd' which could be applied to any of the functions in our interface so as to require the user to be authenticated before the function is invoked</font>\n",
        "\n",
        "> <font size=\"4\">apply that decorator to the 'Add to Roster' and 'Upvote' options in the menu</font>\n",
        "\n",
        "> <font size=\"4\">Assume the authentication would be based on a username and password, which for simplicity could be stored as global variables</font>\n",
        "\n",
        "> ```\n",
        " Choose an option:\n",
        "        a. View roster\n",
        "        b. Upvote\n",
        "        c. Add to roster\n",
        "        d. Quit\n",
        "\n",
        "\n",
        "> ```\n",
        "Enter option: b\n",
        "\n",
        "\n",
        "> ```\n",
        "Enter username:\n",
        "Enter password:\n"
      ]
    },
    {
      "cell_type": "markdown",
      "metadata": {
        "id": "nGifUdpgPmsf"
      },
      "source": [
        "## Solution Part II"
      ]
    },
    {
      "cell_type": "code",
      "execution_count": 27,
      "metadata": {
        "id": "hssRiRT1LElB"
      },
      "outputs": [],
      "source": [
        "# application state ###\n",
        "ROSTER = [\n",
        "    { \"name\": \"Alice\", \"votes\": 12},\n",
        "    { \"name\": \"Tyler\", \"votes\": 9},\n",
        "    { \"name\": \"Andrew\", \"votes\": 10}\n",
        "]\n",
        "\n",
        "USERNAME = \"admin\"\n",
        "PASSWORD = \"pw\"\n",
        "\n",
        "AUTHD_USER =set()\n",
        "#######################\n",
        "\n",
        "from functools import wraps\n",
        "\n",
        "def authd(func):\n",
        "  @wraps(func)\n",
        "  def wrapper(*args, **kwargs):\n",
        "    if USERNAME not in AUTHD_USER:\n",
        "      entered_username = input(\"Enter username: \")\n",
        "      entered_password = input(\"Enter password: \")\n",
        "\n",
        "      if entered_password != PASSWORD or entered_username != USERNAME:\n",
        "        print(\"Authentication failed!\")\n",
        "        return\n",
        "\n",
        "      AUTHD_USER.add(entered_username)\n",
        "\n",
        "    func(*args, **kwargs)\n",
        "  return wrapper\n",
        "\n",
        "\n",
        "def menu():\n",
        "  while True:\n",
        "    print(\"\"\"\n",
        "    a. View Roster\n",
        "    b. Upvote\n",
        "    c. Add to Roster\n",
        "    d. Quit\n",
        "    \"\"\")\n",
        "\n",
        "    option = input(\"Enter option: \").lower()\n",
        "\n",
        "    if option == \"a\":\n",
        "      view_roster()\n",
        "    elif option == \"b\":\n",
        "      upvote()\n",
        "    elif option == \"c\":\n",
        "      add_to_roster()\n",
        "    else:\n",
        "      break\n",
        "\n",
        "def view_roster():\n",
        "  sorted_roster = sorted(ROSTER, key=lambda p: p[\"votes\"], reverse=True)\n",
        "\n",
        "  for p in sorted_roster:\n",
        "    print(f\"{p['name']}: {p['votes']}\")\n",
        "\n",
        "\n",
        "@authd\n",
        "def upvote():\n",
        "  name = input(\"Enter the name of the person to upvote: \").lower()\n",
        "\n",
        "  for p in ROSTER:\n",
        "    if p[\"name\"].lower() == name:\n",
        "      p[\"votes\"] += 1\n",
        "      print(f\"Upvoted {p['name']}!\")\n",
        "      return\n",
        "\n",
        "  print(\"Name was not found!\")\n",
        "\n",
        "\n",
        "@authd\n",
        "def add_to_roster():\n",
        "  name = input(\"Enter the name of the person to add: \")\n",
        "  ROSTER.append({\"name\": name, \"votes\": 0})\n",
        "  print(f\"Added {name} to the roster!\")"
      ]
    },
    {
      "cell_type": "code",
      "execution_count": 28,
      "metadata": {
        "colab": {
          "base_uri": "https://localhost:8080/"
        },
        "id": "ZgM_bi-NCq5b",
        "outputId": "56c1a7f7-24d3-4ceb-fc00-42456f5ca592"
      },
      "outputs": [
        {
          "name": "stdout",
          "output_type": "stream",
          "text": [
            "\n",
            "    a. View Roster\n",
            "    b. Upvote\n",
            "    c. Add to Roster\n",
            "    d. Quit\n",
            "    \n",
            "Enter option: b\n",
            "Enter username: admin\n",
            "Enter password: pw\n",
            "Enter the name of the person to upvote: alice\n",
            "Upvoted Alice!\n",
            "\n",
            "    a. View Roster\n",
            "    b. Upvote\n",
            "    c. Add to Roster\n",
            "    d. Quit\n",
            "    \n",
            "Enter option: a\n",
            "Alice: 13\n",
            "Andrew: 10\n",
            "Tyler: 9\n",
            "\n",
            "    a. View Roster\n",
            "    b. Upvote\n",
            "    c. Add to Roster\n",
            "    d. Quit\n",
            "    \n",
            "Enter option: c\n",
            "Enter the name of the person to add: Tanya\n",
            "Added Tanya to the roster!\n",
            "\n",
            "    a. View Roster\n",
            "    b. Upvote\n",
            "    c. Add to Roster\n",
            "    d. Quit\n",
            "    \n",
            "Enter option: a\n",
            "Alice: 13\n",
            "Andrew: 10\n",
            "Tyler: 9\n",
            "Tanya: 0\n",
            "\n",
            "    a. View Roster\n",
            "    b. Upvote\n",
            "    c. Add to Roster\n",
            "    d. Quit\n",
            "    \n",
            "Enter option: d\n"
          ]
        }
      ],
      "source": [
        "menu()"
      ]
    },
    {
      "cell_type": "markdown",
      "metadata": {
        "id": "CrsB9-KkPZgD"
      },
      "source": [
        "## Skill Challenge - Building A Cache"
      ]
    },
    {
      "cell_type": "markdown",
      "metadata": {
        "id": "Ltkvq2otEOAg"
      },
      "source": [
        "> <font size=\"4\">define a function 'get_weather(city)' that simulates the retrieval of weather data for a given city. For simplicity, the function will return a dictionary containing random values for temperature (range from -10 to 30) and humidity (range from 0 to 100). Use a delay  of 1 second to mimic the real-time delay of calling a live API</font>\n",
        "\n",
        "> <font size=\"4\">then define a decorator 'cache_decorator(func)' that checks if the requested city's weather data is already in the cache AND it isn't too old (i.e. less than 10 seconds old). If the data meets both conditions, the decorator should return a value from cache rather than allow the invocation of the target function</font>\n",
        "\n",
        "> <font size=\"4\">if the weather data for the city is not in the cache or it's too old, the 'get_weather(city)' invocation should be allowed to get and return fresh data. In addition, the cacheshould be updated with the new data</font>\n",
        "\n",
        "> <font size=\"4\">for simplicity, implement the weather data cache for each city as a dictionary</font>\n",
        "\n",
        "> ```\n",
        " get_weather(\"Toronto\")\n",
        "\n",
        "\n",
        "> ```\n",
        "Fetching weather data for Toronto...\n",
        "{'temperature': -1, 'humidity': 32}\n",
        "\n",
        "\n",
        "> ```\n",
        "get_weather(\"Toronto\")\n",
        "\n",
        "> ```\n",
        "Returning cached result for  Toronto\n",
        "{'temperature': -1, 'humidity': 32}\n",
        "\n",
        "> ```\n",
        "get_weather(\"Toronto\") # more than 10 seconds after 1st call\n",
        "\n",
        "> ```\n",
        "Fetching weather data for Toronto...\n",
        "{'temperature': 11, 'humidity': 14}\n"
      ]
    },
    {
      "cell_type": "markdown",
      "metadata": {
        "id": "6ypeRCuZRgsH"
      },
      "source": [
        "## Solution"
      ]
    },
    {
      "cell_type": "code",
      "execution_count": 41,
      "metadata": {
        "id": "EAr9b9AbSt-S"
      },
      "outputs": [],
      "source": [
        "import time\n",
        "from random import randint\n",
        "from functools import wraps\n",
        "\n",
        "# cache = {\n",
        "#     \"city1\": {\n",
        "#         \"data\": **weather**,\n",
        "#         \"time\": 12312312\n",
        "#     },\n",
        "#     \"city2\": {},\n",
        "#     \"city3\": {},\n",
        "# }\n",
        "\n",
        "cache = {}\n",
        "\n",
        "# - introduce some cache/memory\n",
        "# - before invocation, check cache\n",
        "\n",
        "def cache_decorator(func):\n",
        "  @wraps(func)\n",
        "  def wrapper(city):\n",
        "\n",
        "    if city in cache and time.time() - cache[city]['time'] < 10:\n",
        "      print(f\"Returning cached result for {city}...\")\n",
        "      return cache[city]['data']\n",
        "\n",
        "    result = func(city)\n",
        "    cache[city] = {\n",
        "        \"data\": result,\n",
        "        \"time\": time.time()\n",
        "    }\n",
        "\n",
        "    return result\n",
        "  return wrapper\n",
        "\n",
        "\n",
        "@cache_decorator\n",
        "def get_weather(city):\n",
        "  print(f\"Fetching weather data for {city}...\")\n",
        "  time.sleep(1)\n",
        "\n",
        "  weather_data = {\n",
        "      'temperature': randint(-10, 30),\n",
        "      'humidity': randint(0, 100)\n",
        "  }\n",
        "\n",
        "  return weather_data"
      ]
    },
    {
      "cell_type": "code",
      "execution_count": 43,
      "metadata": {
        "colab": {
          "base_uri": "https://localhost:8080/"
        },
        "id": "6LtWKSNdStzQ",
        "outputId": "0c54d9b6-901b-41f4-a4b4-16c41ef2d566"
      },
      "outputs": [
        {
          "name": "stdout",
          "output_type": "stream",
          "text": [
            "Returning cached result for Toronto...\n"
          ]
        },
        {
          "data": {
            "text/plain": [
              "{'temperature': 24, 'humidity': 6}"
            ]
          },
          "execution_count": 43,
          "metadata": {},
          "output_type": "execute_result"
        }
      ],
      "source": [
        "get_weather(\"Toronto\")"
      ]
    },
    {
      "cell_type": "code",
      "execution_count": 44,
      "metadata": {
        "colab": {
          "base_uri": "https://localhost:8080/"
        },
        "id": "EfGAfai5StgT",
        "outputId": "eabc2683-c6bb-4dcf-faf2-39283b74cfda"
      },
      "outputs": [
        {
          "name": "stdout",
          "output_type": "stream",
          "text": [
            "Returning cached result for Toronto...\n"
          ]
        },
        {
          "data": {
            "text/plain": [
              "{'temperature': 24, 'humidity': 6}"
            ]
          },
          "execution_count": 44,
          "metadata": {},
          "output_type": "execute_result"
        }
      ],
      "source": [
        "get_weather(\"Toronto\")"
      ]
    },
    {
      "cell_type": "code",
      "execution_count": 46,
      "metadata": {
        "colab": {
          "base_uri": "https://localhost:8080/"
        },
        "id": "tmul78gSSs3C",
        "outputId": "14222a68-ae66-4700-c770-31c409d7a7d7"
      },
      "outputs": [
        {
          "name": "stdout",
          "output_type": "stream",
          "text": [
            "Returning cached result for Toronto...\n"
          ]
        },
        {
          "data": {
            "text/plain": [
              "{'temperature': 7, 'humidity': 91}"
            ]
          },
          "execution_count": 46,
          "metadata": {},
          "output_type": "execute_result"
        }
      ],
      "source": [
        "get_weather(\"Toronto\")"
      ]
    },
    {
      "cell_type": "code",
      "execution_count": 47,
      "metadata": {
        "colab": {
          "base_uri": "https://localhost:8080/"
        },
        "id": "DlLkzLvvSsNH",
        "outputId": "f324dd7d-4075-4233-e24e-7d4817f13364"
      },
      "outputs": [
        {
          "name": "stdout",
          "output_type": "stream",
          "text": [
            "Fetching weather data for Toronto...\n"
          ]
        },
        {
          "data": {
            "text/plain": [
              "{'temperature': -5, 'humidity': 3}"
            ]
          },
          "execution_count": 47,
          "metadata": {},
          "output_type": "execute_result"
        }
      ],
      "source": [
        "get_weather(\"Toronto\")"
      ]
    },
    {
      "cell_type": "code",
      "execution_count": null,
      "metadata": {
        "id": "eW0jLhjbSrOh"
      },
      "outputs": [],
      "source": []
    }
  ],
  "metadata": {
    "colab": {
      "provenance": []
    },
    "kernelspec": {
      "display_name": "Python 3",
      "name": "python3"
    },
    "language_info": {
      "codemirror_mode": {
        "name": "ipython",
        "version": 3
      },
      "file_extension": ".py",
      "mimetype": "text/x-python",
      "name": "python",
      "nbconvert_exporter": "python",
      "pygments_lexer": "ipython3",
      "version": "3.11.9"
    }
  },
  "nbformat": 4,
  "nbformat_minor": 0
}
